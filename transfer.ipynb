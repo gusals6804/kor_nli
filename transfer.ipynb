{
 "cells": [
  {
   "cell_type": "code",
   "execution_count": 1,
   "metadata": {},
   "outputs": [],
   "source": [
    "# # 패키지 설치\n",
    "# !pip install ijson\n",
    "# !pip install selenium\n",
    "# !apt-get update\n",
    "# !apt install chromium-chromedriver --yes\n",
    "# !pip install pororo"
   ]
  },
  {
   "cell_type": "code",
   "execution_count": 2,
   "metadata": {},
   "outputs": [],
   "source": [
    "import ijson\n",
    "import pandas as pd\n",
    "import re\n",
    "import numpy as np\n",
    "import time\n",
    "from tqdm import tqdm\n",
    "\n",
    "import pororo\n",
    "from pororo import Pororo\n",
    "\n",
    "import selenium\n",
    "from selenium import webdriver\n",
    "from selenium.webdriver.common.by import By\n",
    "from selenium.webdriver.support.ui import WebDriverWait\n",
    "from selenium.webdriver.support import expected_conditions as EC"
   ]
  },
  {
   "cell_type": "code",
   "execution_count": 3,
   "metadata": {},
   "outputs": [],
   "source": [
    "# 데이터 불러오기\n",
    "train = pd.read_csv('./data/new_train_data.csv')\n",
    "test = pd.read_csv('./data/test_data.csv')"
   ]
  },
  {
   "cell_type": "code",
   "execution_count": 4,
   "metadata": {},
   "outputs": [
    {
     "data": {
      "text/html": [
       "<div>\n",
       "<style scoped>\n",
       "    .dataframe tbody tr th:only-of-type {\n",
       "        vertical-align: middle;\n",
       "    }\n",
       "\n",
       "    .dataframe tbody tr th {\n",
       "        vertical-align: top;\n",
       "    }\n",
       "\n",
       "    .dataframe thead th {\n",
       "        text-align: right;\n",
       "    }\n",
       "</style>\n",
       "<table border=\"1\" class=\"dataframe\">\n",
       "  <thead>\n",
       "    <tr style=\"text-align: right;\">\n",
       "      <th></th>\n",
       "      <th>index</th>\n",
       "      <th>premise</th>\n",
       "      <th>hypothesis</th>\n",
       "      <th>label</th>\n",
       "    </tr>\n",
       "  </thead>\n",
       "  <tbody>\n",
       "    <tr>\n",
       "      <th>0</th>\n",
       "      <td>0</td>\n",
       "      <td>씨름은 상고시대로부터 전해져 내려오는 남자들의 대표적인 놀이로서, 소년이나 장정들이...</td>\n",
       "      <td>씨름의 여자들의 놀이이다.</td>\n",
       "      <td>contradiction</td>\n",
       "    </tr>\n",
       "    <tr>\n",
       "      <th>1</th>\n",
       "      <td>1</td>\n",
       "      <td>삼성은 자작극을 벌인 2명에게 형사 고소 등의 법적 대응을 검토 중이라고 하였으나,...</td>\n",
       "      <td>자작극을 벌인 이는 3명이다.</td>\n",
       "      <td>contradiction</td>\n",
       "    </tr>\n",
       "    <tr>\n",
       "      <th>2</th>\n",
       "      <td>2</td>\n",
       "      <td>이를 위해 예측적 범죄예방 시스템을 구축하고 고도화한다.</td>\n",
       "      <td>예측적 범죄예방 시스템 구축하고 고도화하는 것은 목적이 있기 때문이다.</td>\n",
       "      <td>entailment</td>\n",
       "    </tr>\n",
       "    <tr>\n",
       "      <th>3</th>\n",
       "      <td>3</td>\n",
       "      <td>광주광역시가 재개발 정비사업 원주민들에 대한 종합대책을 마련하는 등 원주민 보호에 ...</td>\n",
       "      <td>원주민들은 종합대책에 만족했다.</td>\n",
       "      <td>neutral</td>\n",
       "    </tr>\n",
       "    <tr>\n",
       "      <th>4</th>\n",
       "      <td>4</td>\n",
       "      <td>진정 소비자와 직원들에게 사랑 받는 기업으로 오래 지속되고 싶으면, 이런 상황에서는...</td>\n",
       "      <td>이런 상황에서 책임 있는 모습을 보여주는 기업은 아주 드물다.</td>\n",
       "      <td>neutral</td>\n",
       "    </tr>\n",
       "    <tr>\n",
       "      <th>...</th>\n",
       "      <td>...</td>\n",
       "      <td>...</td>\n",
       "      <td>...</td>\n",
       "      <td>...</td>\n",
       "    </tr>\n",
       "    <tr>\n",
       "      <th>27993</th>\n",
       "      <td>2995</td>\n",
       "      <td>흔히 비자림로라고 불리는 지방도 제1112호선을 넓히는 공사가 1년만에 재개되었다가...</td>\n",
       "      <td>지방도 제1112호선을 넓히는 공사는 중단없이 마무리 되었다.</td>\n",
       "      <td>contradiction</td>\n",
       "    </tr>\n",
       "    <tr>\n",
       "      <th>27994</th>\n",
       "      <td>2996</td>\n",
       "      <td>흔히 비자림로라고 불리는 지방도 제1112호선을 넓히는 공사가 1년만에 재개되었다가...</td>\n",
       "      <td>지방도 제1112호선을 넓히는 공사가 중단된 건 세 번째이다.</td>\n",
       "      <td>neutral</td>\n",
       "    </tr>\n",
       "    <tr>\n",
       "      <th>27995</th>\n",
       "      <td>2997</td>\n",
       "      <td>흔히 비자림로라고 불리는 지방도 제1112호선을 넓히는 공사가 1년만에 재개되었다가...</td>\n",
       "      <td>지방도 제1112호선은 흔히 비자림로라고 불린다.</td>\n",
       "      <td>entailment</td>\n",
       "    </tr>\n",
       "    <tr>\n",
       "      <th>27996</th>\n",
       "      <td>2998</td>\n",
       "      <td>흡연자분들은 발코니가 있는 방이면 발코니에서 흡연이 가능합니다.</td>\n",
       "      <td>비흡연자는 발코니 있는 방이 필요없습니다.</td>\n",
       "      <td>neutral</td>\n",
       "    </tr>\n",
       "    <tr>\n",
       "      <th>27997</th>\n",
       "      <td>2999</td>\n",
       "      <td>흡연자분들은 발코니가 있는 방이면 발코니에서 흡연이 가능합니다.</td>\n",
       "      <td>흡연하려면 발코니 있는 방을 선택하면 됩니다.</td>\n",
       "      <td>entailment</td>\n",
       "    </tr>\n",
       "  </tbody>\n",
       "</table>\n",
       "<p>27998 rows × 4 columns</p>\n",
       "</div>"
      ],
      "text/plain": [
       "       index                                            premise  \\\n",
       "0          0  씨름은 상고시대로부터 전해져 내려오는 남자들의 대표적인 놀이로서, 소년이나 장정들이...   \n",
       "1          1  삼성은 자작극을 벌인 2명에게 형사 고소 등의 법적 대응을 검토 중이라고 하였으나,...   \n",
       "2          2                    이를 위해 예측적 범죄예방 시스템을 구축하고 고도화한다.   \n",
       "3          3  광주광역시가 재개발 정비사업 원주민들에 대한 종합대책을 마련하는 등 원주민 보호에 ...   \n",
       "4          4  진정 소비자와 직원들에게 사랑 받는 기업으로 오래 지속되고 싶으면, 이런 상황에서는...   \n",
       "...      ...                                                ...   \n",
       "27993   2995  흔히 비자림로라고 불리는 지방도 제1112호선을 넓히는 공사가 1년만에 재개되었다가...   \n",
       "27994   2996  흔히 비자림로라고 불리는 지방도 제1112호선을 넓히는 공사가 1년만에 재개되었다가...   \n",
       "27995   2997  흔히 비자림로라고 불리는 지방도 제1112호선을 넓히는 공사가 1년만에 재개되었다가...   \n",
       "27996   2998                흡연자분들은 발코니가 있는 방이면 발코니에서 흡연이 가능합니다.   \n",
       "27997   2999                흡연자분들은 발코니가 있는 방이면 발코니에서 흡연이 가능합니다.   \n",
       "\n",
       "                                    hypothesis          label  \n",
       "0                               씨름의 여자들의 놀이이다.  contradiction  \n",
       "1                             자작극을 벌인 이는 3명이다.  contradiction  \n",
       "2      예측적 범죄예방 시스템 구축하고 고도화하는 것은 목적이 있기 때문이다.     entailment  \n",
       "3                            원주민들은 종합대책에 만족했다.        neutral  \n",
       "4           이런 상황에서 책임 있는 모습을 보여주는 기업은 아주 드물다.        neutral  \n",
       "...                                        ...            ...  \n",
       "27993       지방도 제1112호선을 넓히는 공사는 중단없이 마무리 되었다.  contradiction  \n",
       "27994       지방도 제1112호선을 넓히는 공사가 중단된 건 세 번째이다.        neutral  \n",
       "27995              지방도 제1112호선은 흔히 비자림로라고 불린다.     entailment  \n",
       "27996                  비흡연자는 발코니 있는 방이 필요없습니다.        neutral  \n",
       "27997                흡연하려면 발코니 있는 방을 선택하면 됩니다.     entailment  \n",
       "\n",
       "[27998 rows x 4 columns]"
      ]
     },
     "execution_count": 4,
     "metadata": {},
     "output_type": "execute_result"
    }
   ],
   "source": [
    "train"
   ]
  },
  {
   "cell_type": "code",
   "execution_count": 5,
   "metadata": {},
   "outputs": [
    {
     "data": {
      "text/plain": [
       "1666"
      ]
     },
     "execution_count": 5,
     "metadata": {},
     "output_type": "execute_result"
    }
   ],
   "source": [
    "len(test)"
   ]
  },
  {
   "cell_type": "code",
   "execution_count": 6,
   "metadata": {},
   "outputs": [],
   "source": [
    "# step2\n",
    "def chrome_setting():\n",
    "    chrome_options = webdriver.ChromeOptions()\n",
    "    chrome_options.add_argument('--headless')\n",
    "    chrome_options.add_argument('--no-sandbox')\n",
    "    chrome_options.add_argument('--disable-dev-shm-usage')\n",
    "    driver = webdriver.Chrome('chromedriver', options=chrome_options)\n",
    "    return driver\n",
    "\n",
    "driver=chrome_setting()"
   ]
  },
  {
   "cell_type": "code",
   "execution_count": 7,
   "metadata": {},
   "outputs": [],
   "source": [
    "data_path='./data/'"
   ]
  },
  {
   "cell_type": "code",
   "execution_count": 8,
   "metadata": {},
   "outputs": [],
   "source": [
    "# Crawling\n",
    "def kor_to_trans(text_data, trans_lang,start_index,final_index):\n",
    "\n",
    "    target_present = EC.presence_of_element_located((By.XPATH, '//*[@id=\"txtTarget\"]'))\n",
    "\n",
    "    for i in tqdm(range(start_index,final_index)): \n",
    "\n",
    "        if (i!=0)&(i%99==0):\n",
    "            time.sleep(2)\n",
    "            print('{}th : '.format(i), backtrans)\n",
    "            np.save('./data/' +'kor_to_eng_train_{}_{}.npy'.format(start_index,final_index),trans_list)\n",
    "\n",
    "        try:\n",
    "            driver.get('https://papago.naver.com/?sk=ko&tk='+trans_lang+'&st='+text_data[i])\n",
    "            time.sleep(1.5)\n",
    "            element=WebDriverWait(driver, 10).until(target_present)\n",
    "            time.sleep(0.1)\n",
    "            backtrans = element.text \n",
    "\n",
    "            if (backtrans=='')|(backtrans==' '):\n",
    "                element=WebDriverWait(driver, 10).until(target_present)\n",
    "                backtrans = element.text \n",
    "                trans_list.append(backtrans)\n",
    "            else:\n",
    "                trans_list.append(backtrans)\n",
    "\n",
    "        except:\n",
    "            trans_list.append('')"
   ]
  },
  {
   "cell_type": "code",
   "execution_count": 9,
   "metadata": {
    "scrolled": true
   },
   "outputs": [
    {
     "name": "stderr",
     "output_type": "stream",
     "text": [
      "  1%|          | 97/7998 [02:48<3:47:30,  1.73s/it]"
     ]
    },
    {
     "name": "stdout",
     "output_type": "stream",
     "text": [
      "20097th :  The power of people abroad will be of great help to us.\n"
     ]
    },
    {
     "name": "stderr",
     "output_type": "stream",
     "text": [
      "  2%|▏         | 196/7998 [05:43<3:46:10,  1.74s/it]"
     ]
    },
    {
     "name": "stdout",
     "output_type": "stream",
     "text": [
      "20196th :  However, the Democratic People's Republic of Korea agreed to repatriate the body of its soldiers on the morning of the 14th, but has not responded.\n"
     ]
    },
    {
     "name": "stderr",
     "output_type": "stream",
     "text": [
      "  4%|▎         | 295/7998 [08:37<3:41:35,  1.73s/it]"
     ]
    },
    {
     "name": "stdout",
     "output_type": "stream",
     "text": [
      "20295th :  After checking out, carrier storage service is also available.\n"
     ]
    },
    {
     "name": "stderr",
     "output_type": "stream",
     "text": [
      "  5%|▍         | 394/7998 [11:31<3:37:41,  1.72s/it]"
     ]
    },
    {
     "name": "stdout",
     "output_type": "stream",
     "text": [
      "20394th :  With Prime Minister Merkel's third term in office, the international community is paying keen attention to how major policies of Germany as well as the European Union will change.\n"
     ]
    },
    {
     "name": "stderr",
     "output_type": "stream",
     "text": [
      "  6%|▌         | 493/7998 [14:24<3:34:07,  1.71s/it]"
     ]
    },
    {
     "name": "stdout",
     "output_type": "stream",
     "text": [
      "20493th :  Jeong-hee, who suffered from illness and stopped studying, fully recovered and returned to school with the friendship dedication of Jae-soo and his own will.\n"
     ]
    },
    {
     "name": "stderr",
     "output_type": "stream",
     "text": [
      "  7%|▋         | 592/7998 [17:19<3:34:12,  1.74s/it]"
     ]
    },
    {
     "name": "stdout",
     "output_type": "stream",
     "text": [
      "20592th :  The Korea Centers for Disease Control and Prevention called for compliance with heat disease prevention rules in accordance with the Korea Meteorological Administration's forecast that this summer will be hotter than usual and the number of heatwave days will increase from last year.\n"
     ]
    },
    {
     "name": "stderr",
     "output_type": "stream",
     "text": [
      "  9%|▊         | 691/7998 [20:13<3:35:51,  1.77s/it]"
     ]
    },
    {
     "name": "stdout",
     "output_type": "stream",
     "text": [
      "20691th :  It's not a book nagging me, it's a space that feels really comfortable and enjoyable.\n"
     ]
    },
    {
     "name": "stderr",
     "output_type": "stream",
     "text": [
      " 10%|▉         | 790/7998 [23:07<3:28:44,  1.74s/it]"
     ]
    },
    {
     "name": "stdout",
     "output_type": "stream",
     "text": [
      "20790th :  William took a bite of his favorite chocolate snack and put the rest in Ohnami's mouth.\n"
     ]
    },
    {
     "name": "stderr",
     "output_type": "stream",
     "text": [
      " 11%|█         | 889/7998 [26:01<3:26:53,  1.75s/it]"
     ]
    },
    {
     "name": "stdout",
     "output_type": "stream",
     "text": [
      "20889th :  Did I forget film theory and art this much?\n"
     ]
    },
    {
     "name": "stderr",
     "output_type": "stream",
     "text": [
      " 12%|█▏        | 988/7998 [28:56<3:22:57,  1.74s/it]"
     ]
    },
    {
     "name": "stdout",
     "output_type": "stream",
     "text": [
      "20988th :  She has been diagnosed with breast cancer and is struggling with it.\n"
     ]
    },
    {
     "name": "stderr",
     "output_type": "stream",
     "text": [
      " 14%|█▎        | 1087/7998 [31:50<3:18:11,  1.72s/it]"
     ]
    },
    {
     "name": "stdout",
     "output_type": "stream",
     "text": [
      "21087th :  As soon as social distancing was eased to the first stage, some construction unions gathered in twos and threes to hold a rally demanding the recruitment of union members.\n"
     ]
    },
    {
     "name": "stderr",
     "output_type": "stream",
     "text": [
      " 15%|█▍        | 1186/7998 [34:44<3:20:09,  1.76s/it]"
     ]
    },
    {
     "name": "stdout",
     "output_type": "stream",
     "text": [
      "21186th :  Lee Wang-pyo, CEO of the Korea Professional Wrestling Federation, passed away at the age of 64 after fighting biliary tract cancer on the 4th.\n"
     ]
    },
    {
     "name": "stderr",
     "output_type": "stream",
     "text": [
      " 16%|█▌        | 1285/7998 [37:39<3:12:19,  1.72s/it]"
     ]
    },
    {
     "name": "stdout",
     "output_type": "stream",
     "text": [
      "21285th :  There is also a nearby mart, so it's easy to shop.\n"
     ]
    },
    {
     "name": "stderr",
     "output_type": "stream",
     "text": [
      " 17%|█▋        | 1384/7998 [40:43<3:39:32,  1.99s/it]"
     ]
    },
    {
     "name": "stdout",
     "output_type": "stream",
     "text": [
      "21384th :  The Cultural Heritage Administration said it will go through a sufficient process of collecting opinions during this period and designate it as a natural monument after deliberation by the Cultural Heritage Committee.\n"
     ]
    },
    {
     "name": "stderr",
     "output_type": "stream",
     "text": [
      " 19%|█▊        | 1483/7998 [43:37<3:08:48,  1.74s/it]"
     ]
    },
    {
     "name": "stdout",
     "output_type": "stream",
     "text": [
      "21483th :  It is very close to Tegel Airport and transportation is convenient.\n"
     ]
    },
    {
     "name": "stderr",
     "output_type": "stream",
     "text": [
      " 20%|█▉        | 1582/7998 [46:31<3:03:18,  1.71s/it]"
     ]
    },
    {
     "name": "stdout",
     "output_type": "stream",
     "text": [
      "21582th :  This accommodation seems to be very good for the family.\n"
     ]
    },
    {
     "name": "stderr",
     "output_type": "stream",
     "text": [
      " 21%|██        | 1681/7998 [49:24<3:01:11,  1.72s/it]"
     ]
    },
    {
     "name": "stdout",
     "output_type": "stream",
     "text": [
      "21681th :  The official release date and price did not come out.\n"
     ]
    },
    {
     "name": "stderr",
     "output_type": "stream",
     "text": [
      " 22%|██▏       | 1780/7998 [52:17<2:59:46,  1.73s/it]"
     ]
    },
    {
     "name": "stdout",
     "output_type": "stream",
     "text": [
      "21780th :  Personally, there were a lot of movies that I liked.\n"
     ]
    },
    {
     "name": "stderr",
     "output_type": "stream",
     "text": [
      " 23%|██▎       | 1879/7998 [55:10<2:54:07,  1.71s/it]"
     ]
    },
    {
     "name": "stdout",
     "output_type": "stream",
     "text": [
      "21879th :  Humans are facing huge challenges that they have never experienced before.\n"
     ]
    },
    {
     "name": "stderr",
     "output_type": "stream",
     "text": [
      " 25%|██▍       | 1978/7998 [58:02<2:53:16,  1.73s/it]"
     ]
    },
    {
     "name": "stdout",
     "output_type": "stream",
     "text": [
      "21978th :  In addition, dementia patients will be provided with notification services when an emergency occurs or they leave the safe area.\n"
     ]
    },
    {
     "name": "stderr",
     "output_type": "stream",
     "text": [
      " 26%|██▌       | 2077/7998 [1:00:55<2:50:00,  1.72s/it]"
     ]
    },
    {
     "name": "stdout",
     "output_type": "stream",
     "text": [
      "22077th :  Is this the movie where you shoot down a helicopter flying with a pistol?\n"
     ]
    },
    {
     "name": "stderr",
     "output_type": "stream",
     "text": [
      " 27%|██▋       | 2176/7998 [1:03:49<2:47:29,  1.73s/it]"
     ]
    },
    {
     "name": "stdout",
     "output_type": "stream",
     "text": [
      "22176th :  The full story of the incident began around 4 p.m. on the 21st when the police, who judged that the three young men talking on the street were suspicious, approached the young people.\n"
     ]
    },
    {
     "name": "stderr",
     "output_type": "stream",
     "text": [
      " 28%|██▊       | 2275/7998 [1:06:41<2:43:59,  1.72s/it]"
     ]
    },
    {
     "name": "stdout",
     "output_type": "stream",
     "text": [
      "22275th :  But if I had finished in the second episode, I would have heard the sound of a masterpiece for a long time.\n"
     ]
    },
    {
     "name": "stderr",
     "output_type": "stream",
     "text": [
      " 30%|██▉       | 2374/7998 [1:09:34<2:42:04,  1.73s/it]"
     ]
    },
    {
     "name": "stdout",
     "output_type": "stream",
     "text": [
      "22374th :  I can't forget the feeling when I saw it in the theater.\n"
     ]
    },
    {
     "name": "stderr",
     "output_type": "stream",
     "text": [
      " 31%|███       | 2473/7998 [1:12:28<2:40:19,  1.74s/it]"
     ]
    },
    {
     "name": "stdout",
     "output_type": "stream",
     "text": [
      "22473th :  Three months after watching this movie, the aftereffects are still great.\n"
     ]
    },
    {
     "name": "stderr",
     "output_type": "stream",
     "text": [
      " 32%|███▏      | 2572/7998 [1:15:22<2:37:59,  1.75s/it]"
     ]
    },
    {
     "name": "stdout",
     "output_type": "stream",
     "text": [
      "22572th :  It's close to Asakusa, so it's easy to take the bus.\n"
     ]
    },
    {
     "name": "stderr",
     "output_type": "stream",
     "text": [
      " 33%|███▎      | 2671/7998 [1:18:15<2:34:14,  1.74s/it]"
     ]
    },
    {
     "name": "stdout",
     "output_type": "stream",
     "text": [
      "22671th :  If I could, I would give you 1 point or 4 points because of the actors' acting.\n"
     ]
    },
    {
     "name": "stderr",
     "output_type": "stream",
     "text": [
      " 35%|███▍      | 2770/7998 [1:21:09<2:30:45,  1.73s/it]"
     ]
    },
    {
     "name": "stdout",
     "output_type": "stream",
     "text": [
      "22770th :  In addition, it plans to provide various contents such as real-time cooking broadcasts by Wang Hong, a celebrity in China, and cooking classes by Korean chefs.\n"
     ]
    },
    {
     "name": "stderr",
     "output_type": "stream",
     "text": [
      " 36%|███▌      | 2869/7998 [1:24:03<2:26:46,  1.72s/it]"
     ]
    },
    {
     "name": "stdout",
     "output_type": "stream",
     "text": [
      "22869th :  Considering the tastes of young people, it is characterized by a comfortable and free atmosphere like a cafe.\n"
     ]
    },
    {
     "name": "stderr",
     "output_type": "stream",
     "text": [
      " 37%|███▋      | 2968/7998 [1:26:55<2:23:11,  1.71s/it]"
     ]
    },
    {
     "name": "stdout",
     "output_type": "stream",
     "text": [
      "22968th :  But I was satisfied with the price.\n"
     ]
    },
    {
     "name": "stderr",
     "output_type": "stream",
     "text": [
      " 38%|███▊      | 3067/7998 [1:29:48<2:21:23,  1.72s/it]"
     ]
    },
    {
     "name": "stdout",
     "output_type": "stream",
     "text": [
      "23067th :  Because of Youngshin's overseas business trip, the two continue their daily conversations as usual in the car where Jiseok takes them to the airport.\n"
     ]
    },
    {
     "name": "stderr",
     "output_type": "stream",
     "text": [
      " 40%|███▉      | 3166/7998 [1:32:41<2:19:25,  1.73s/it]"
     ]
    },
    {
     "name": "stdout",
     "output_type": "stream",
     "text": [
      "23166th :  Experts plan to directly inspect facilities, convenience facilities, major movements, and ramps for each tourist destination and evaluate them focusing on the original charm of the tourist destination.\n"
     ]
    },
    {
     "name": "stderr",
     "output_type": "stream",
     "text": [
      " 41%|████      | 3265/7998 [1:35:34<2:15:35,  1.72s/it]"
     ]
    },
    {
     "name": "stdout",
     "output_type": "stream",
     "text": [
      "23265th :  spokesman Kim's remarks are interpreting that the two Koreas are likely to agree on President Moon Jae In's visit to Pyongyang at a high-level meeting on the 13th.\n"
     ]
    },
    {
     "name": "stderr",
     "output_type": "stream",
     "text": [
      " 42%|████▏     | 3364/7998 [1:38:26<2:12:38,  1.72s/it]"
     ]
    },
    {
     "name": "stdout",
     "output_type": "stream",
     "text": [
      "23364th :  I watched it because of Gyunjadan, but the visual beauty is exactly what I like.\n"
     ]
    },
    {
     "name": "stderr",
     "output_type": "stream",
     "text": [
      " 43%|████▎     | 3463/7998 [1:41:29<2:11:10,  1.74s/it]"
     ]
    },
    {
     "name": "stdout",
     "output_type": "stream",
     "text": [
      "23463th :  Director Shin Jung Won's unique humor can only be done by director Shin Jung Won.\n"
     ]
    },
    {
     "name": "stderr",
     "output_type": "stream",
     "text": [
      " 45%|████▍     | 3562/7998 [1:44:22<2:07:39,  1.73s/it]"
     ]
    },
    {
     "name": "stdout",
     "output_type": "stream",
     "text": [
      "23562th :  The Ministry of Culture, Sports and Tourism agreed with the purpose, but argued that it should be deleted because the range of addiction targets is too wide to prove objective causal relationships.\n"
     ]
    },
    {
     "name": "stderr",
     "output_type": "stream",
     "text": [
      " 46%|████▌     | 3661/7998 [1:47:15<2:04:01,  1.72s/it]"
     ]
    },
    {
     "name": "stdout",
     "output_type": "stream",
     "text": [
      "23661th :  You lie down on a flat sofa in your room and sleep.\n"
     ]
    },
    {
     "name": "stderr",
     "output_type": "stream",
     "text": [
      " 47%|████▋     | 3760/7998 [1:50:07<2:00:17,  1.70s/it]"
     ]
    },
    {
     "name": "stdout",
     "output_type": "stream",
     "text": [
      "23760th :  It captures analog sensibilities in digital format.\n"
     ]
    },
    {
     "name": "stderr",
     "output_type": "stream",
     "text": [
      " 48%|████▊     | 3859/7998 [1:52:59<1:58:40,  1.72s/it]"
     ]
    },
    {
     "name": "stdout",
     "output_type": "stream",
     "text": [
      "23859th :  Meanwhile, in today's agreement, we agreed to deal with the government organization law and the so-called Yoo Byung-eon law by the end of October.\n"
     ]
    },
    {
     "name": "stderr",
     "output_type": "stream",
     "text": [
      " 49%|████▉     | 3958/7998 [1:55:52<1:56:02,  1.72s/it]"
     ]
    },
    {
     "name": "stdout",
     "output_type": "stream",
     "text": [
      "23958th :  It can also solve questions about products through real-time chat and has entertainment with interesting content.\n"
     ]
    },
    {
     "name": "stderr",
     "output_type": "stream",
     "text": [
      " 51%|█████     | 4057/7998 [1:58:45<1:54:45,  1.75s/it]"
     ]
    },
    {
     "name": "stdout",
     "output_type": "stream",
     "text": [
      "24057th :  Bukil-myeon plans to conduct education in the second half of this year through five senses experience learning to visit cultural heritage sites and tour local festival sites.\n"
     ]
    },
    {
     "name": "stderr",
     "output_type": "stream",
     "text": [
      " 52%|█████▏    | 4156/7998 [2:01:38<1:50:14,  1.72s/it]"
     ]
    },
    {
     "name": "stdout",
     "output_type": "stream",
     "text": [
      "24156th :  The New York Times reported that the fall could be one of the biggest cases of civilian casualties caused by U.S. air strikes since the U.S. invaded Iraq in 2003.\n"
     ]
    },
    {
     "name": "stderr",
     "output_type": "stream",
     "text": [
      " 53%|█████▎    | 4255/7998 [2:04:31<1:47:20,  1.72s/it]"
     ]
    },
    {
     "name": "stdout",
     "output_type": "stream",
     "text": [
      "24255th :  Lawyers of the Litigation Support Bar Group visit the site to provide legal advice to victims on litigation procedures and document preparation, and directly serve as litigation agents for victims of low-income families.\n"
     ]
    },
    {
     "name": "stderr",
     "output_type": "stream",
     "text": [
      " 54%|█████▍    | 4354/7998 [2:07:24<1:44:02,  1.71s/it]"
     ]
    },
    {
     "name": "stdout",
     "output_type": "stream",
     "text": [
      "24354th :  There is no moment when I am proud of the finished product that I have assembled for a long time.\n"
     ]
    },
    {
     "name": "stderr",
     "output_type": "stream",
     "text": [
      " 56%|█████▌    | 4453/7998 [2:10:16<1:41:52,  1.72s/it]"
     ]
    },
    {
     "name": "stdout",
     "output_type": "stream",
     "text": [
      "24453th :  The fire authorities said a report was received at around 6:44 a.m. that the bathroom door was locked in an apartment in Ansan, Gyeonggi-do.\n"
     ]
    },
    {
     "name": "stderr",
     "output_type": "stream",
     "text": [
      " 57%|█████▋    | 4552/7998 [2:13:09<1:38:20,  1.71s/it]"
     ]
    },
    {
     "name": "stdout",
     "output_type": "stream",
     "text": [
      "24552th :  It's a shame that I couldn't use the terrace because of the snow.\n"
     ]
    },
    {
     "name": "stderr",
     "output_type": "stream",
     "text": [
      " 58%|█████▊    | 4651/7998 [2:16:02<1:36:27,  1.73s/it]"
     ]
    },
    {
     "name": "stdout",
     "output_type": "stream",
     "text": [
      "24651th :  The expansion work of Bijarim-ro was suspended in May 2019 due to controversy over the destruction of cedar forests and the protection of legal information species.\n"
     ]
    },
    {
     "name": "stderr",
     "output_type": "stream",
     "text": [
      " 59%|█████▉    | 4750/7998 [2:18:55<1:33:26,  1.73s/it]"
     ]
    },
    {
     "name": "stdout",
     "output_type": "stream",
     "text": [
      "24750th :  There is no inconvenience in using public transportation.\n"
     ]
    },
    {
     "name": "stderr",
     "output_type": "stream",
     "text": [
      " 61%|██████    | 4849/7998 [2:21:48<1:30:22,  1.72s/it]"
     ]
    },
    {
     "name": "stdout",
     "output_type": "stream",
     "text": [
      "24849th :  In addition, the Ministry of Food and Drug Safety is striving for international cooperation while promoting regulatory innovation by establishing and operating a rapid deliberation system for clinical trial plans for the development of treatments and vaccines.\n"
     ]
    },
    {
     "name": "stderr",
     "output_type": "stream",
     "text": [
      " 62%|██████▏   | 4948/7998 [2:24:41<1:27:23,  1.72s/it]"
     ]
    },
    {
     "name": "stdout",
     "output_type": "stream",
     "text": [
      "24948th :  I've been very well without any inconvenience during my time.\n"
     ]
    },
    {
     "name": "stderr",
     "output_type": "stream",
     "text": [
      " 63%|██████▎   | 5047/7998 [2:27:33<1:25:05,  1.73s/it]"
     ]
    },
    {
     "name": "stdout",
     "output_type": "stream",
     "text": [
      "25047th :  It is a hospital room that costs 100 million won to build one hospital room, and as of 2019, there are 535 operating rooms in Korea.\n"
     ]
    },
    {
     "name": "stderr",
     "output_type": "stream",
     "text": [
      " 64%|██████▍   | 5146/7998 [2:30:25<1:22:46,  1.74s/it]"
     ]
    },
    {
     "name": "stdout",
     "output_type": "stream",
     "text": [
      "25146th :  It was a cozy apartment where more than four people could stay.\n"
     ]
    },
    {
     "name": "stderr",
     "output_type": "stream",
     "text": [
      " 66%|██████▌   | 5245/7998 [2:33:18<1:18:35,  1.71s/it]"
     ]
    },
    {
     "name": "stdout",
     "output_type": "stream",
     "text": [
      "25245th :  It's not a masterpiece, but it's a great work for video.\n"
     ]
    },
    {
     "name": "stderr",
     "output_type": "stream",
     "text": [
      " 67%|██████▋   | 5344/7998 [2:36:10<1:16:12,  1.72s/it]"
     ]
    },
    {
     "name": "stdout",
     "output_type": "stream",
     "text": [
      "25344th :  The past does not only stay in the past, but is still repeated today.\n"
     ]
    },
    {
     "name": "stderr",
     "output_type": "stream",
     "text": [
      " 68%|██████▊   | 5443/7998 [2:39:02<1:12:53,  1.71s/it]"
     ]
    },
    {
     "name": "stdout",
     "output_type": "stream",
     "text": [
      "25443th :  You can just make a reservation without having to think.\n"
     ]
    },
    {
     "name": "stderr",
     "output_type": "stream",
     "text": [
      " 69%|██████▉   | 5542/7998 [2:41:54<1:09:44,  1.70s/it]"
     ]
    },
    {
     "name": "stdout",
     "output_type": "stream",
     "text": [
      "25542th :  And the location is closer to Xiaonanman station than Siman station.\n"
     ]
    },
    {
     "name": "stderr",
     "output_type": "stream",
     "text": [
      " 71%|███████   | 5641/7998 [2:44:47<1:08:13,  1.74s/it]"
     ]
    },
    {
     "name": "stdout",
     "output_type": "stream",
     "text": [
      "25641th :  I saw this, but I want to be satisfied with this.\n"
     ]
    },
    {
     "name": "stderr",
     "output_type": "stream",
     "text": [
      " 72%|███████▏  | 5740/7998 [2:47:39<1:04:27,  1.71s/it]"
     ]
    },
    {
     "name": "stdout",
     "output_type": "stream",
     "text": [
      "25740th :  However, insurance premiums must be paid for at least 12 months for 24 months before turnover.\n"
     ]
    },
    {
     "name": "stderr",
     "output_type": "stream",
     "text": [
      " 73%|███████▎  | 5839/7998 [2:50:32<1:01:43,  1.72s/it]"
     ]
    },
    {
     "name": "stdout",
     "output_type": "stream",
     "text": [
      "25839th :  Therefore, the article, which does not include figures on infections related to urban assemblies, has insufficient evidence.\n"
     ]
    },
    {
     "name": "stderr",
     "output_type": "stream",
     "text": [
      " 74%|███████▍  | 5938/7998 [2:53:24<58:57,  1.72s/it]  "
     ]
    },
    {
     "name": "stdout",
     "output_type": "stream",
     "text": [
      "25938th :  It's a relief that there's no negative rating system.\n"
     ]
    },
    {
     "name": "stderr",
     "output_type": "stream",
     "text": [
      " 75%|███████▌  | 6037/7998 [2:56:16<56:24,  1.73s/it]  "
     ]
    },
    {
     "name": "stdout",
     "output_type": "stream",
     "text": [
      "26037th :  It is mentioned in Aristotle's 5th-century comedy frog that Midas has donkey ears.\n"
     ]
    },
    {
     "name": "stderr",
     "output_type": "stream",
     "text": [
      " 77%|███████▋  | 6136/7998 [2:59:09<53:21,  1.72s/it]  "
     ]
    },
    {
     "name": "stdout",
     "output_type": "stream",
     "text": [
      "26136th :  The Vietnamese national team beat Palestine and Oman on the 3rd and 5th, respectively, and confirmed its victory early with six points, further raising the cheering fever.\n"
     ]
    },
    {
     "name": "stderr",
     "output_type": "stream",
     "text": [
      " 78%|███████▊  | 6235/7998 [3:02:01<49:59,  1.70s/it]  "
     ]
    },
    {
     "name": "stdout",
     "output_type": "stream",
     "text": [
      "26235th :  It was easy to take a train or bus at Vienna Station.\n"
     ]
    },
    {
     "name": "stderr",
     "output_type": "stream",
     "text": [
      " 79%|███████▉  | 6334/7998 [3:04:52<47:20,  1.71s/it]  "
     ]
    },
    {
     "name": "stdout",
     "output_type": "stream",
     "text": [
      "26334th :  Another masterpiece that made Chan's early heyday.\n"
     ]
    },
    {
     "name": "stderr",
     "output_type": "stream",
     "text": [
      " 80%|████████  | 6433/7998 [3:07:44<44:31,  1.71s/it]  "
     ]
    },
    {
     "name": "stdout",
     "output_type": "stream",
     "text": [
      "26433th :  Daisy, a 15-year-old who separated herself from the world in a headset with loud music, is a stranger who has just left the United States where her father lives and came to England where her aunt lives.\n"
     ]
    },
    {
     "name": "stderr",
     "output_type": "stream",
     "text": [
      " 82%|████████▏ | 6532/7998 [3:10:36<41:56,  1.72s/it]  "
     ]
    },
    {
     "name": "stdout",
     "output_type": "stream",
     "text": [
      "26532th :  I talked to the media out of regret, but the government was surprisingly quiet.\n"
     ]
    },
    {
     "name": "stderr",
     "output_type": "stream",
     "text": [
      " 83%|████████▎ | 6631/7998 [3:13:29<39:15,  1.72s/it]"
     ]
    },
    {
     "name": "stdout",
     "output_type": "stream",
     "text": [
      "26631th :  I recommend it because you need historical knowledge to understand it.\n"
     ]
    },
    {
     "name": "stderr",
     "output_type": "stream",
     "text": [
      " 84%|████████▍ | 6730/7998 [3:16:21<36:10,  1.71s/it]"
     ]
    },
    {
     "name": "stdout",
     "output_type": "stream",
     "text": [
      "26730th :  The health care law, named Obamacare, is one of the major laws Republicans have been attempting to abolish since its passage in 2010.\n"
     ]
    },
    {
     "name": "stderr",
     "output_type": "stream",
     "text": [
      " 85%|████████▌ | 6829/7998 [3:19:13<33:36,  1.72s/it]"
     ]
    },
    {
     "name": "stdout",
     "output_type": "stream",
     "text": [
      "26829th :  According to the original plan, all repairs must be completed before the launch date, but repairs are reportedly being delayed.\n"
     ]
    },
    {
     "name": "stderr",
     "output_type": "stream",
     "text": [
      " 87%|████████▋ | 6928/7998 [3:22:06<30:20,  1.70s/it]"
     ]
    },
    {
     "name": "stdout",
     "output_type": "stream",
     "text": [
      "26928th :  In a public statement, Vice Chairman Lee said he would not hand over management rights to his children and said he would separate management rights from ownership.\n"
     ]
    },
    {
     "name": "stderr",
     "output_type": "stream",
     "text": [
      " 88%|████████▊ | 7027/7998 [3:24:58<27:42,  1.71s/it]"
     ]
    },
    {
     "name": "stdout",
     "output_type": "stream",
     "text": [
      "27027th :  If you make a few more programs like this, I agree to increase the license fee.\n"
     ]
    },
    {
     "name": "stderr",
     "output_type": "stream",
     "text": [
      " 89%|████████▉ | 7126/7998 [3:27:50<24:52,  1.71s/it]"
     ]
    },
    {
     "name": "stdout",
     "output_type": "stream",
     "text": [
      "27126th :  I got to know this movie through music before movies.\n"
     ]
    },
    {
     "name": "stderr",
     "output_type": "stream",
     "text": [
      " 90%|█████████ | 7225/7998 [3:30:43<21:58,  1.71s/it]"
     ]
    },
    {
     "name": "stdout",
     "output_type": "stream",
     "text": [
      "27225th :  A netizen who introduced himself as a mother of a high school freshman daughter said a phone call was made to her the night before.\n"
     ]
    },
    {
     "name": "stderr",
     "output_type": "stream",
     "text": [
      " 92%|█████████▏| 7324/7998 [3:33:35<19:15,  1.71s/it]"
     ]
    },
    {
     "name": "stdout",
     "output_type": "stream",
     "text": [
      "27324th :  It's later than the government's hope, but it's fortunate that it was processed within the extraordinary session of the National Assembly in June.\n"
     ]
    },
    {
     "name": "stderr",
     "output_type": "stream",
     "text": [
      " 93%|█████████▎| 7423/7998 [3:36:28<16:21,  1.71s/it]"
     ]
    },
    {
     "name": "stdout",
     "output_type": "stream",
     "text": [
      "27423th :  Miaka, a third-year middle school student, will go to the National Library with her friend Yui ahead of the exam.\n"
     ]
    },
    {
     "name": "stderr",
     "output_type": "stream",
     "text": [
      " 94%|█████████▍| 7522/7998 [3:39:20<13:55,  1.75s/it]"
     ]
    },
    {
     "name": "stdout",
     "output_type": "stream",
     "text": [
      "27522th :  For your information, there is a gentleman who loves his wife.\n"
     ]
    },
    {
     "name": "stderr",
     "output_type": "stream",
     "text": [
      " 95%|█████████▌| 7621/7998 [3:42:12<10:54,  1.74s/it]"
     ]
    },
    {
     "name": "stdout",
     "output_type": "stream",
     "text": [
      "27621th :  Chunghyodang is the head house of Seoae Ryu Seong-ryong and has a typical structure of a noble family in the middle of the Joseon Dynasty.\n"
     ]
    },
    {
     "name": "stderr",
     "output_type": "stream",
     "text": [
      " 97%|█████████▋| 7720/7998 [3:45:04<07:57,  1.72s/it]"
     ]
    },
    {
     "name": "stdout",
     "output_type": "stream",
     "text": [
      "27720th :  Based on the results of the two professors' research, Professor Peringha first developed a molecular motor that rotates in the same direction when exposed to ultraviolet rays in 1999.\n"
     ]
    },
    {
     "name": "stderr",
     "output_type": "stream",
     "text": [
      " 98%|█████████▊| 7819/7998 [3:47:57<05:09,  1.73s/it]"
     ]
    },
    {
     "name": "stdout",
     "output_type": "stream",
     "text": [
      "27819th :  However, it was too difficult to find at first.\n"
     ]
    },
    {
     "name": "stderr",
     "output_type": "stream",
     "text": [
      " 99%|█████████▉| 7918/7998 [3:50:49<02:17,  1.72s/it]"
     ]
    },
    {
     "name": "stdout",
     "output_type": "stream",
     "text": [
      "27918th :  Characters who are far from reality are annoying.\n"
     ]
    },
    {
     "name": "stderr",
     "output_type": "stream",
     "text": [
      "100%|██████████| 7998/7998 [3:53:09<00:00,  1.75s/it]\n"
     ]
    }
   ],
   "source": [
    "# trans_list=[]\n",
    "# kor_to_trans(train['premise'], 'en', 0, 10000)\n",
    "# np.save(data_path+'kor_premise_to_eng_train_0_10000.npy',trans_list)\n",
    "\n",
    "# trans_list=[]\n",
    "# kor_to_trans(train['premise'], 'en', 10000, 20000)\n",
    "# np.save(data_path+'kor_premise_to_eng_train_10000_20000.npy',trans_list)\n",
    "\n",
    "trans_list=[]\n",
    "kor_to_trans(train['premise'], 'en', 20000, len(train))\n",
    "np.save(data_path+'kor_premise_to_eng_train_20000_all.npy',trans_list)\n",
    "\n",
    "# trans_list=[]\n",
    "# kor_to_trans(test['premise'], 'en', 0, len(test))\n",
    "# np.save(data_path+'kor_premise_to_eng_test_0_all.npy',trans_list)"
   ]
  },
  {
   "cell_type": "code",
   "execution_count": 10,
   "metadata": {
    "scrolled": true
   },
   "outputs": [
    {
     "name": "stderr",
     "output_type": "stream",
     "text": [
      "  1%|          | 97/7998 [02:56<3:46:45,  1.72s/it] "
     ]
    },
    {
     "name": "stdout",
     "output_type": "stream",
     "text": [
      "20097th :  People abroad will not help us at all.\n"
     ]
    },
    {
     "name": "stderr",
     "output_type": "stream",
     "text": [
      "  2%|▏         | 196/7998 [05:49<3:43:42,  1.72s/it]"
     ]
    },
    {
     "name": "stdout",
     "output_type": "stream",
     "text": [
      "20196th :  There is a body of a soldier of the Democratic People's Republic of Korea who needs repatriation.\n"
     ]
    },
    {
     "name": "stderr",
     "output_type": "stream",
     "text": [
      "  4%|▎         | 295/7998 [08:42<3:44:53,  1.75s/it]"
     ]
    },
    {
     "name": "stdout",
     "output_type": "stream",
     "text": [
      "20295th :  You can use the carrier storage service even when you check in check-in.\n"
     ]
    },
    {
     "name": "stderr",
     "output_type": "stream",
     "text": [
      "  5%|▍         | 394/7998 [11:35<3:36:28,  1.71s/it]"
     ]
    },
    {
     "name": "stdout",
     "output_type": "stream",
     "text": [
      "20394th :  Prime Minister Merkel was reappointed for a third term.\n"
     ]
    },
    {
     "name": "stderr",
     "output_type": "stream",
     "text": [
      "  6%|▌         | 493/7998 [14:28<3:36:19,  1.73s/it]"
     ]
    },
    {
     "name": "stdout",
     "output_type": "stream",
     "text": [
      "20493th :  Jeong-hee had stopped studying.\n"
     ]
    },
    {
     "name": "stderr",
     "output_type": "stream",
     "text": [
      "  7%|▋         | 592/7998 [17:31<3:31:40,  1.71s/it]"
     ]
    },
    {
     "name": "stdout",
     "output_type": "stream",
     "text": [
      "20592th :  The Korea Meteorological Administration predicted that this summer will be unusually cooler than usual.\n"
     ]
    },
    {
     "name": "stderr",
     "output_type": "stream",
     "text": [
      "  9%|▊         | 691/7998 [20:24<3:28:59,  1.72s/it]"
     ]
    },
    {
     "name": "stdout",
     "output_type": "stream",
     "text": [
      "20691th :  It is a space where books feel comfortable and enjoyable.\n"
     ]
    },
    {
     "name": "stderr",
     "output_type": "stream",
     "text": [
      " 10%|▉         | 790/7998 [23:17<3:24:59,  1.71s/it]"
     ]
    },
    {
     "name": "stdout",
     "output_type": "stream",
     "text": [
      "20790th :  William took a bite of the chocolate snack.\n"
     ]
    },
    {
     "name": "stderr",
     "output_type": "stream",
     "text": [
      " 11%|█         | 889/7998 [26:09<3:22:46,  1.71s/it]"
     ]
    },
    {
     "name": "stdout",
     "output_type": "stream",
     "text": [
      "20889th :  Did I remember art this much?\n"
     ]
    },
    {
     "name": "stderr",
     "output_type": "stream",
     "text": [
      " 12%|█▏        | 988/7998 [29:02<3:20:50,  1.72s/it]"
     ]
    },
    {
     "name": "stdout",
     "output_type": "stream",
     "text": [
      "20988th :  She is battling breast cancer.\n"
     ]
    },
    {
     "name": "stderr",
     "output_type": "stream",
     "text": [
      " 14%|█▎        | 1087/7998 [31:55<3:17:34,  1.72s/it]"
     ]
    },
    {
     "name": "stdout",
     "output_type": "stream",
     "text": [
      "21087th :  Although social distancing has been eased to the first stage, no rallies have been held.\n"
     ]
    },
    {
     "name": "stderr",
     "output_type": "stream",
     "text": [
      " 15%|█▍        | 1186/7998 [34:47<3:16:35,  1.73s/it]"
     ]
    },
    {
     "name": "stdout",
     "output_type": "stream",
     "text": [
      "21186th :  Many officials from the Korea Professional Wrestling Federation attended the funeral of Lee Wang-pyo, CEO of the Korea Professional Wrestling Federation.\n"
     ]
    },
    {
     "name": "stderr",
     "output_type": "stream",
     "text": [
      " 16%|█▌        | 1285/7998 [37:40<3:12:59,  1.72s/it]"
     ]
    },
    {
     "name": "stdout",
     "output_type": "stream",
     "text": [
      "21285th :  The mart is nearby.\n"
     ]
    },
    {
     "name": "stderr",
     "output_type": "stream",
     "text": [
      " 17%|█▋        | 1384/7998 [40:33<3:10:36,  1.73s/it]"
     ]
    },
    {
     "name": "stdout",
     "output_type": "stream",
     "text": [
      "21384th :  It said that natural monuments will be designated after deliberation by the Cultural Heritage Committee.\n"
     ]
    },
    {
     "name": "stderr",
     "output_type": "stream",
     "text": [
      " 19%|█▊        | 1483/7998 [43:26<3:05:27,  1.71s/it]"
     ]
    },
    {
     "name": "stdout",
     "output_type": "stream",
     "text": [
      "21483th :  It's very far to Tegel Airport.\n"
     ]
    },
    {
     "name": "stderr",
     "output_type": "stream",
     "text": [
      " 20%|█▉        | 1582/7998 [46:29<6:52:01,  3.85s/it]"
     ]
    },
    {
     "name": "stdout",
     "output_type": "stream",
     "text": [
      "21582th :  I don't think it's a suitable accommodation for my family.\n"
     ]
    },
    {
     "name": "stderr",
     "output_type": "stream",
     "text": [
      " 21%|██        | 1681/7998 [49:21<3:01:34,  1.72s/it]"
     ]
    },
    {
     "name": "stdout",
     "output_type": "stream",
     "text": [
      "21681th :  The price has been disclosed, but the release date is undisclosed.\n"
     ]
    },
    {
     "name": "stderr",
     "output_type": "stream",
     "text": [
      " 22%|██▏       | 1780/7998 [52:14<2:57:54,  1.72s/it]"
     ]
    },
    {
     "name": "stdout",
     "output_type": "stream",
     "text": [
      "21780th :  It was a movie where I learned a lesson.\n"
     ]
    },
    {
     "name": "stderr",
     "output_type": "stream",
     "text": [
      " 23%|██▎       | 1879/7998 [55:07<2:57:20,  1.74s/it]"
     ]
    },
    {
     "name": "stdout",
     "output_type": "stream",
     "text": [
      "21879th :  Koreans are facing a huge challenge that they have never faced before.\n"
     ]
    },
    {
     "name": "stderr",
     "output_type": "stream",
     "text": [
      " 25%|██▍       | 1978/7998 [58:00<2:51:39,  1.71s/it]"
     ]
    },
    {
     "name": "stdout",
     "output_type": "stream",
     "text": [
      "21978th :  Notification services are provided only when an emergency occurs to dementia patients.\n"
     ]
    },
    {
     "name": "stderr",
     "output_type": "stream",
     "text": [
      " 26%|██▌       | 2077/7998 [1:00:52<2:50:02,  1.72s/it]"
     ]
    },
    {
     "name": "stdout",
     "output_type": "stream",
     "text": [
      "22077th :  There is a scene where a helicopter flying with a pistol is shot down.\n"
     ]
    },
    {
     "name": "stderr",
     "output_type": "stream",
     "text": [
      " 27%|██▋       | 2176/7998 [1:03:45<2:48:33,  1.74s/it]"
     ]
    },
    {
     "name": "stdout",
     "output_type": "stream",
     "text": [
      "22176th :  The whole incident began when the police arrested the young men.\n"
     ]
    },
    {
     "name": "stderr",
     "output_type": "stream",
     "text": [
      " 28%|██▊       | 2275/7998 [1:06:37<2:42:54,  1.71s/it]"
     ]
    },
    {
     "name": "stdout",
     "output_type": "stream",
     "text": [
      "22275th :  I didn't finish it in the second episode.\n"
     ]
    },
    {
     "name": "stderr",
     "output_type": "stream",
     "text": [
      " 30%|██▉       | 2374/7998 [1:09:30<2:43:14,  1.74s/it]"
     ]
    },
    {
     "name": "stdout",
     "output_type": "stream",
     "text": [
      "22374th :  I can't forget the feeling at that time.\n"
     ]
    },
    {
     "name": "stderr",
     "output_type": "stream",
     "text": [
      " 31%|███       | 2473/7998 [1:12:22<2:38:24,  1.72s/it]"
     ]
    },
    {
     "name": "stdout",
     "output_type": "stream",
     "text": [
      "22473th :  I watched this movie for the first time yesterday.\n"
     ]
    },
    {
     "name": "stderr",
     "output_type": "stream",
     "text": [
      " 32%|███▏      | 2572/7998 [1:15:14<2:35:32,  1.72s/it]"
     ]
    },
    {
     "name": "stdout",
     "output_type": "stream",
     "text": [
      "22572th :  It takes 15 minutes by bus to Asakusa.\n"
     ]
    },
    {
     "name": "stderr",
     "output_type": "stream",
     "text": [
      " 33%|███▎      | 2671/7998 [1:18:07<2:33:43,  1.73s/it]"
     ]
    },
    {
     "name": "stdout",
     "output_type": "stream",
     "text": [
      "22671th :  I won't give you 1 point.\n"
     ]
    },
    {
     "name": "stderr",
     "output_type": "stream",
     "text": [
      " 35%|███▍      | 2770/7998 [1:20:59<2:30:18,  1.72s/it]"
     ]
    },
    {
     "name": "stdout",
     "output_type": "stream",
     "text": [
      "22770th :  There are no plans to provide content yet.\n"
     ]
    },
    {
     "name": "stderr",
     "output_type": "stream",
     "text": [
      " 36%|███▌      | 2869/7998 [1:23:52<2:29:08,  1.74s/it]"
     ]
    },
    {
     "name": "stdout",
     "output_type": "stream",
     "text": [
      "22869th :  The interior is quiet and solemn like a library.\n"
     ]
    },
    {
     "name": "stderr",
     "output_type": "stream",
     "text": [
      " 37%|███▋      | 2968/7998 [1:26:45<2:24:01,  1.72s/it]"
     ]
    },
    {
     "name": "stdout",
     "output_type": "stream",
     "text": [
      "22968th :  It was too expensive compared to the facility.\n"
     ]
    },
    {
     "name": "stderr",
     "output_type": "stream",
     "text": [
      " 38%|███▊      | 3067/7998 [1:29:39<2:22:06,  1.73s/it]"
     ]
    },
    {
     "name": "stdout",
     "output_type": "stream",
     "text": [
      "23067th :  Youngshin and Jiseok continue their daily conversations.\n"
     ]
    },
    {
     "name": "stderr",
     "output_type": "stream",
     "text": [
      " 40%|███▉      | 3166/7998 [1:32:32<2:18:18,  1.72s/it]"
     ]
    },
    {
     "name": "stdout",
     "output_type": "stream",
     "text": [
      "23166th :  Only facilities and main routes are subject to inspection.\n"
     ]
    },
    {
     "name": "stderr",
     "output_type": "stream",
     "text": [
      " 41%|████      | 3265/7998 [1:35:25<2:16:18,  1.73s/it]"
     ]
    },
    {
     "name": "stdout",
     "output_type": "stream",
     "text": [
      "23265th :  Regarding spokesman Kim's words, it is said that there is a high possibility that President Moon Jae In will agree to visit Pyongyang.\n"
     ]
    },
    {
     "name": "stderr",
     "output_type": "stream",
     "text": [
      " 42%|████▏     | 3364/7998 [1:38:19<2:14:21,  1.74s/it]"
     ]
    },
    {
     "name": "stdout",
     "output_type": "stream",
     "text": [
      "23364th :  I didn't watch it because of Gyunjadan, but it's the visual that I hate.\n"
     ]
    },
    {
     "name": "stderr",
     "output_type": "stream",
     "text": [
      " 43%|████▎     | 3463/7998 [1:41:14<2:11:21,  1.74s/it]"
     ]
    },
    {
     "name": "stdout",
     "output_type": "stream",
     "text": [
      "23463th :  Anyone can do the humor unique to director Shin Jung-won.\n"
     ]
    },
    {
     "name": "stderr",
     "output_type": "stream",
     "text": [
      " 45%|████▍     | 3562/7998 [1:44:09<2:08:52,  1.74s/it]"
     ]
    },
    {
     "name": "stdout",
     "output_type": "stream",
     "text": [
      "23562th :  The Ministry of Culture, Sports and Tourism insisted that some of them should be deleted.\n"
     ]
    },
    {
     "name": "stderr",
     "output_type": "stream",
     "text": [
      " 46%|████▌     | 3661/7998 [1:47:15<2:07:19,  1.76s/it]"
     ]
    },
    {
     "name": "stdout",
     "output_type": "stream",
     "text": [
      "23661th :  You sleep in the room.\n"
     ]
    },
    {
     "name": "stderr",
     "output_type": "stream",
     "text": [
      " 47%|████▋     | 3760/7998 [1:50:11<2:03:17,  1.75s/it]"
     ]
    },
    {
     "name": "stdout",
     "output_type": "stream",
     "text": [
      "23760th :  Analog sensibility is captured in analog format.\n"
     ]
    },
    {
     "name": "stderr",
     "output_type": "stream",
     "text": [
      " 48%|████▊     | 3859/7998 [1:53:07<2:02:04,  1.77s/it]"
     ]
    },
    {
     "name": "stdout",
     "output_type": "stream",
     "text": [
      "23859th :  In today's agreement, there was also an agreement on the handling of the Yoo Byung-eon Act.\n"
     ]
    },
    {
     "name": "stderr",
     "output_type": "stream",
     "text": [
      " 49%|████▉     | 3958/7998 [1:56:13<1:57:08,  1.74s/it]"
     ]
    },
    {
     "name": "stdout",
     "output_type": "stream",
     "text": [
      "23958th :  There is no content with entertainment.\n"
     ]
    },
    {
     "name": "stderr",
     "output_type": "stream",
     "text": [
      " 51%|█████     | 4057/7998 [1:59:08<1:53:27,  1.73s/it]"
     ]
    },
    {
     "name": "stdout",
     "output_type": "stream",
     "text": [
      "24057th :  Cultural properties sites will be held in the second half of this year.\n"
     ]
    },
    {
     "name": "stderr",
     "output_type": "stream",
     "text": [
      " 52%|█████▏    | 4156/7998 [2:02:04<1:53:30,  1.77s/it]"
     ]
    },
    {
     "name": "stdout",
     "output_type": "stream",
     "text": [
      "24156th :  Since 2003, the United States has never invaded Iraq.\n"
     ]
    },
    {
     "name": "stderr",
     "output_type": "stream",
     "text": [
      " 53%|█████▎    | 4255/7998 [2:05:19<1:49:24,  1.75s/it]"
     ]
    },
    {
     "name": "stdout",
     "output_type": "stream",
     "text": [
      "24255th :  Lawyers of the Litigation Support Bar Group provide legal advice to victims such as litigation procedures and document preparation rather than on the spot.\n"
     ]
    },
    {
     "name": "stderr",
     "output_type": "stream",
     "text": [
      " 54%|█████▍    | 4354/7998 [2:08:15<1:47:19,  1.77s/it]"
     ]
    },
    {
     "name": "stdout",
     "output_type": "stream",
     "text": [
      "24354th :  It can only be completed by assembling hard for a long time.\n"
     ]
    },
    {
     "name": "stderr",
     "output_type": "stream",
     "text": [
      " 56%|█████▌    | 4453/7998 [2:11:10<1:44:31,  1.77s/it]"
     ]
    },
    {
     "name": "stdout",
     "output_type": "stream",
     "text": [
      "24453th :  A person was trapped in the bathroom of an apartment in Ansan.\n"
     ]
    },
    {
     "name": "stderr",
     "output_type": "stream",
     "text": [
      " 57%|█████▋    | 4552/7998 [2:14:05<1:40:10,  1.74s/it]"
     ]
    },
    {
     "name": "stdout",
     "output_type": "stream",
     "text": [
      "24552th :  It snowed every day.\n"
     ]
    },
    {
     "name": "stderr",
     "output_type": "stream",
     "text": [
      " 58%|█████▊    | 4651/7998 [2:16:59<1:36:13,  1.72s/it]"
     ]
    },
    {
     "name": "stdout",
     "output_type": "stream",
     "text": [
      "24651th :  Only the controversy over the protection of legal information protection is the reason why the expansion of Bijarim-ro has been suspended\n"
     ]
    },
    {
     "name": "stderr",
     "output_type": "stream",
     "text": [
      " 59%|█████▉    | 4750/7998 [2:19:55<1:35:47,  1.77s/it]"
     ]
    },
    {
     "name": "stdout",
     "output_type": "stream",
     "text": [
      "24750th :  You can use public transportation conveniently.\n"
     ]
    },
    {
     "name": "stderr",
     "output_type": "stream",
     "text": [
      " 61%|██████    | 4849/7998 [2:22:51<1:31:26,  1.74s/it]"
     ]
    },
    {
     "name": "stdout",
     "output_type": "stream",
     "text": [
      "24849th :  The Ministry of Food and Drug Safety is working with the United States to develop vaccines.\n"
     ]
    },
    {
     "name": "stderr",
     "output_type": "stream",
     "text": [
      " 62%|██████▏   | 4948/7998 [2:25:52<1:29:35,  1.76s/it]"
     ]
    },
    {
     "name": "stdout",
     "output_type": "stream",
     "text": [
      "24948th :  I've been doing very well for three days.\n"
     ]
    },
    {
     "name": "stderr",
     "output_type": "stream",
     "text": [
      " 63%|██████▎   | 5047/7998 [2:28:46<1:25:35,  1.74s/it]"
     ]
    },
    {
     "name": "stdout",
     "output_type": "stream",
     "text": [
      "25047th :  The cost of building a hospital room is 100 million won.\n"
     ]
    },
    {
     "name": "stderr",
     "output_type": "stream",
     "text": [
      " 64%|██████▍   | 5146/7998 [2:31:41<1:23:27,  1.76s/it]"
     ]
    },
    {
     "name": "stdout",
     "output_type": "stream",
     "text": [
      "25146th :  There are two rooms in the apartment.\n"
     ]
    },
    {
     "name": "stderr",
     "output_type": "stream",
     "text": [
      " 66%|██████▌   | 5245/7998 [2:34:36<1:20:42,  1.76s/it]"
     ]
    },
    {
     "name": "stdout",
     "output_type": "stream",
     "text": [
      "25245th :  It's not a masterpiece, but it's a very excellent work for video.\n"
     ]
    },
    {
     "name": "stderr",
     "output_type": "stream",
     "text": [
      " 67%|██████▋   | 5344/7998 [2:37:32<1:17:17,  1.75s/it]"
     ]
    },
    {
     "name": "stdout",
     "output_type": "stream",
     "text": [
      "25344th :  The past stays only in the past.\n"
     ]
    },
    {
     "name": "stderr",
     "output_type": "stream",
     "text": [
      " 68%|██████▊   | 5443/7998 [2:40:27<1:14:24,  1.75s/it]"
     ]
    },
    {
     "name": "stdout",
     "output_type": "stream",
     "text": [
      "25443th :  You can just make a reservation.\n"
     ]
    },
    {
     "name": "stderr",
     "output_type": "stream",
     "text": [
      " 69%|██████▉   | 5542/7998 [2:43:22<1:10:51,  1.73s/it]"
     ]
    },
    {
     "name": "stdout",
     "output_type": "stream",
     "text": [
      "25542th :  Xiaonanman Station is relatively closer than Siman Station.\n"
     ]
    },
    {
     "name": "stderr",
     "output_type": "stream",
     "text": [
      " 71%|███████   | 5641/7998 [2:46:18<1:09:20,  1.77s/it]"
     ]
    },
    {
     "name": "stdout",
     "output_type": "stream",
     "text": [
      "25641th :  I want to be satisfied with one.\n"
     ]
    },
    {
     "name": "stderr",
     "output_type": "stream",
     "text": [
      " 72%|███████▏  | 5740/7998 [2:49:12<1:05:42,  1.75s/it]"
     ]
    },
    {
     "name": "stdout",
     "output_type": "stream",
     "text": [
      "25740th :  Insurance premiums must be paid for at least one year for two years before turnover.\n"
     ]
    },
    {
     "name": "stderr",
     "output_type": "stream",
     "text": [
      " 73%|███████▎  | 5839/7998 [2:52:07<1:03:28,  1.76s/it]"
     ]
    },
    {
     "name": "stdout",
     "output_type": "stream",
     "text": [
      "25839th :  Articles with insufficient evidence did not include figures for infection.\n"
     ]
    },
    {
     "name": "stderr",
     "output_type": "stream",
     "text": [
      " 74%|███████▍  | 5938/7998 [2:55:03<59:50,  1.74s/it]  "
     ]
    },
    {
     "name": "stdout",
     "output_type": "stream",
     "text": [
      "25938th :  It is a disadvantage that there is no negative rating system.\n"
     ]
    },
    {
     "name": "stderr",
     "output_type": "stream",
     "text": [
      " 75%|███████▌  | 6037/7998 [2:57:58<57:14,  1.75s/it]  "
     ]
    },
    {
     "name": "stdout",
     "output_type": "stream",
     "text": [
      "26037th :  Midas has donkey ears.\n"
     ]
    },
    {
     "name": "stderr",
     "output_type": "stream",
     "text": [
      " 77%|███████▋  | 6136/7998 [3:00:53<54:03,  1.74s/it]  "
     ]
    },
    {
     "name": "stdout",
     "output_type": "stream",
     "text": [
      "26136th :  The Vietnamese national team won.\n"
     ]
    },
    {
     "name": "stderr",
     "output_type": "stream",
     "text": [
      " 78%|███████▊  | 6235/7998 [3:03:49<50:57,  1.73s/it]  "
     ]
    },
    {
     "name": "stdout",
     "output_type": "stream",
     "text": [
      "26235th :  There is an information table from Vienna Station to the bus stop.\n"
     ]
    },
    {
     "name": "stderr",
     "output_type": "stream",
     "text": [
      " 79%|███████▉  | 6334/7998 [3:06:44<48:27,  1.75s/it]  "
     ]
    },
    {
     "name": "stdout",
     "output_type": "stream",
     "text": [
      "26334th :  Chan once experienced his heyday.\n"
     ]
    },
    {
     "name": "stderr",
     "output_type": "stream",
     "text": [
      " 80%|████████  | 6433/7998 [3:09:39<44:59,  1.73s/it]  "
     ]
    },
    {
     "name": "stdout",
     "output_type": "stream",
     "text": [
      "26433th :  Daisy is 15 years old.\n"
     ]
    },
    {
     "name": "stderr",
     "output_type": "stream",
     "text": [
      " 82%|████████▏ | 6532/7998 [3:12:34<42:19,  1.73s/it]  "
     ]
    },
    {
     "name": "stdout",
     "output_type": "stream",
     "text": [
      "26532th :  I told the media, but the government was unexpectedly quiet.\n"
     ]
    },
    {
     "name": "stderr",
     "output_type": "stream",
     "text": [
      " 83%|████████▎ | 6631/7998 [3:15:29<39:32,  1.74s/it]"
     ]
    },
    {
     "name": "stdout",
     "output_type": "stream",
     "text": [
      "26631th :  It seems that historical knowledge of Goryeo is needed.\n"
     ]
    },
    {
     "name": "stderr",
     "output_type": "stream",
     "text": [
      " 84%|████████▍ | 6730/7998 [3:18:23<36:48,  1.74s/it]"
     ]
    },
    {
     "name": "stdout",
     "output_type": "stream",
     "text": [
      "26730th :  The Republican Party intends to abolish the Health Care Act from 2010 to the present.\n"
     ]
    },
    {
     "name": "stderr",
     "output_type": "stream",
     "text": [
      " 85%|████████▌ | 6829/7998 [3:21:19<33:52,  1.74s/it]"
     ]
    },
    {
     "name": "stdout",
     "output_type": "stream",
     "text": [
      "26829th :  It will take at least 10 days to complete the repair.\n"
     ]
    },
    {
     "name": "stderr",
     "output_type": "stream",
     "text": [
      " 87%|████████▋ | 6928/7998 [3:24:14<31:03,  1.74s/it]"
     ]
    },
    {
     "name": "stdout",
     "output_type": "stream",
     "text": [
      "26928th :  Vice-Chairman Lee has a plan to separate management and ownership.\n"
     ]
    },
    {
     "name": "stderr",
     "output_type": "stream",
     "text": [
      " 88%|████████▊ | 7027/7998 [3:27:10<28:17,  1.75s/it]"
     ]
    },
    {
     "name": "stdout",
     "output_type": "stream",
     "text": [
      "27027th :  If we create more programs like this, we will approve of raising license fees.\n"
     ]
    },
    {
     "name": "stderr",
     "output_type": "stream",
     "text": [
      " 89%|████████▉ | 7126/7998 [3:30:16<25:25,  1.75s/it]  "
     ]
    },
    {
     "name": "stdout",
     "output_type": "stream",
     "text": [
      "27126th :  I knew this movie first through music.\n"
     ]
    },
    {
     "name": "stderr",
     "output_type": "stream",
     "text": [
      " 90%|█████████ | 7225/7998 [3:33:11<22:10,  1.72s/it]"
     ]
    },
    {
     "name": "stdout",
     "output_type": "stream",
     "text": [
      "27225th :  The woman who said her daughter had a phone call the night before is a parent with a daughter of a high school girl.\n"
     ]
    },
    {
     "name": "stderr",
     "output_type": "stream",
     "text": [
      " 92%|█████████▏| 7324/7998 [3:36:07<19:31,  1.74s/it]"
     ]
    },
    {
     "name": "stdout",
     "output_type": "stream",
     "text": [
      "27324th :  It was faster than the government's hope.\n"
     ]
    },
    {
     "name": "stderr",
     "output_type": "stream",
     "text": [
      " 93%|█████████▎| 7423/7998 [3:39:02<16:47,  1.75s/it]"
     ]
    },
    {
     "name": "stdout",
     "output_type": "stream",
     "text": [
      "27423th :  Yui Miakawa goes to the National Library every Saturday.\n"
     ]
    },
    {
     "name": "stderr",
     "output_type": "stream",
     "text": [
      " 94%|█████████▍| 7522/7998 [3:42:07<14:05,  1.78s/it]"
     ]
    },
    {
     "name": "stdout",
     "output_type": "stream",
     "text": [
      "27522th :  Right above is the entrance to the wife's love gentleman.\n"
     ]
    },
    {
     "name": "stderr",
     "output_type": "stream",
     "text": [
      " 95%|█████████▌| 7621/7998 [3:45:02<11:08,  1.77s/it]"
     ]
    },
    {
     "name": "stdout",
     "output_type": "stream",
     "text": [
      "27621th :  Chunghyodang has a typical structure of a new aristocrat in the late Goryeo Dynasty.\n"
     ]
    },
    {
     "name": "stderr",
     "output_type": "stream",
     "text": [
      " 97%|█████████▋| 7720/7998 [3:47:57<08:10,  1.76s/it]"
     ]
    },
    {
     "name": "stdout",
     "output_type": "stream",
     "text": [
      "27720th :  Professor Peringha first developed a molecular motor based on the results of his own research.\n"
     ]
    },
    {
     "name": "stderr",
     "output_type": "stream",
     "text": [
      " 98%|█████████▊| 7819/7998 [3:50:52<05:10,  1.74s/it]"
     ]
    },
    {
     "name": "stdout",
     "output_type": "stream",
     "text": [
      "27819th :  I had a hard time when I first visited.\n"
     ]
    },
    {
     "name": "stderr",
     "output_type": "stream",
     "text": [
      " 99%|█████████▉| 7918/7998 [3:54:07<02:18,  1.73s/it]"
     ]
    },
    {
     "name": "stdout",
     "output_type": "stream",
     "text": [
      "27918th :  I get annoyed when the character is far from reality.\n"
     ]
    },
    {
     "name": "stderr",
     "output_type": "stream",
     "text": [
      "100%|██████████| 7998/7998 [3:56:30<00:00,  1.77s/it]\n"
     ]
    }
   ],
   "source": [
    "# trans_list=[]\n",
    "# kor_to_trans(train['hypothesis'], 'en',0,10000)\n",
    "# np.save(data_path+'kor_hypothesis_to_eng_train_0_10000.npy',trans_list)\n",
    "\n",
    "# trans_list=[]\n",
    "# kor_to_trans(train['hypothesis'], 'en',10000,20000)\n",
    "# np.save(data_path+'kor_hypothesis_to_eng_train_10000_20000.npy',trans_list)\n",
    "\n",
    "trans_list=[]\n",
    "kor_to_trans(train['hypothesis'], 'en',20000,len(train))\n",
    "np.save(data_path+'kor_hypothesis_to_eng_train_20000_all.npy',trans_list)\n",
    "\n",
    "# trans_list=[]\n",
    "# kor_to_trans(test['hypothesis'], 'en', 0, len(test))\n",
    "# np.save(data_path+'kor_hypothesis_to_eng_test_0_all.npy',trans_list)"
   ]
  },
  {
   "cell_type": "code",
   "execution_count": 11,
   "metadata": {},
   "outputs": [],
   "source": [
    "eng_data0=np.load(data_path+'kor_premise_to_eng_train_0_10000.npy')\n",
    "eng_data1=np.load(data_path+'kor_premise_to_eng_train_10000_20000.npy')\n",
    "eng_data2=np.load(data_path+'kor_premise_to_eng_train_20000_all.npy')\n",
    "\n",
    "\n",
    "eng_data=[*eng_data0,*eng_data1,*eng_data2]\n",
    "eng_data_premise=pd.DataFrame(eng_data,columns=['eng_premise'])"
   ]
  },
  {
   "cell_type": "code",
   "execution_count": 12,
   "metadata": {},
   "outputs": [],
   "source": [
    "eng_data0=np.load(data_path+'kor_hypothesis_to_eng_train_0_10000.npy')\n",
    "eng_data1=np.load(data_path+'kor_hypothesis_to_eng_train_10000_20000.npy')\n",
    "eng_data2=np.load(data_path+'kor_hypothesis_to_eng_train_20000_all.npy')\n",
    "\n",
    "\n",
    "eng_data=[*eng_data0,*eng_data1,*eng_data2]\n",
    "eng_dat_hypothesisa=pd.DataFrame(eng_data,columns=['eng_hypothesis'])"
   ]
  },
  {
   "cell_type": "code",
   "execution_count": 13,
   "metadata": {
    "scrolled": true
   },
   "outputs": [
    {
     "data": {
      "text/html": [
       "<div>\n",
       "<style scoped>\n",
       "    .dataframe tbody tr th:only-of-type {\n",
       "        vertical-align: middle;\n",
       "    }\n",
       "\n",
       "    .dataframe tbody tr th {\n",
       "        vertical-align: top;\n",
       "    }\n",
       "\n",
       "    .dataframe thead th {\n",
       "        text-align: right;\n",
       "    }\n",
       "</style>\n",
       "<table border=\"1\" class=\"dataframe\">\n",
       "  <thead>\n",
       "    <tr style=\"text-align: right;\">\n",
       "      <th></th>\n",
       "      <th>index</th>\n",
       "      <th>premise</th>\n",
       "      <th>hypothesis</th>\n",
       "      <th>label</th>\n",
       "      <th>eng_premise</th>\n",
       "      <th>eng_hypothesis</th>\n",
       "    </tr>\n",
       "  </thead>\n",
       "  <tbody>\n",
       "    <tr>\n",
       "      <th>0</th>\n",
       "      <td>0</td>\n",
       "      <td>씨름은 상고시대로부터 전해져 내려오는 남자들의 대표적인 놀이로서, 소년이나 장정들이...</td>\n",
       "      <td>씨름의 여자들의 놀이이다.</td>\n",
       "      <td>contradiction</td>\n",
       "      <td>Ssireum is a representative game of men that h...</td>\n",
       "      <td>It's a play of women in Ssireum.</td>\n",
       "    </tr>\n",
       "    <tr>\n",
       "      <th>1</th>\n",
       "      <td>1</td>\n",
       "      <td>삼성은 자작극을 벌인 2명에게 형사 고소 등의 법적 대응을 검토 중이라고 하였으나,...</td>\n",
       "      <td>자작극을 벌인 이는 3명이다.</td>\n",
       "      <td>contradiction</td>\n",
       "      <td>Samsung said it was considering legal action, ...</td>\n",
       "      <td>There were three people who made their own plays.</td>\n",
       "    </tr>\n",
       "    <tr>\n",
       "      <th>2</th>\n",
       "      <td>2</td>\n",
       "      <td>이를 위해 예측적 범죄예방 시스템을 구축하고 고도화한다.</td>\n",
       "      <td>예측적 범죄예방 시스템 구축하고 고도화하는 것은 목적이 있기 때문이다.</td>\n",
       "      <td>entailment</td>\n",
       "      <td>To this end, a predictive crime prevention sys...</td>\n",
       "      <td>This is because the purpose is to establish an...</td>\n",
       "    </tr>\n",
       "    <tr>\n",
       "      <th>3</th>\n",
       "      <td>3</td>\n",
       "      <td>광주광역시가 재개발 정비사업 원주민들에 대한 종합대책을 마련하는 등 원주민 보호에 ...</td>\n",
       "      <td>원주민들은 종합대책에 만족했다.</td>\n",
       "      <td>neutral</td>\n",
       "      <td>Gwangju Metropolitan City has actively started...</td>\n",
       "      <td>The natives were satisfied with the comprehens...</td>\n",
       "    </tr>\n",
       "    <tr>\n",
       "      <th>4</th>\n",
       "      <td>4</td>\n",
       "      <td>진정 소비자와 직원들에게 사랑 받는 기업으로 오래 지속되고 싶으면, 이런 상황에서는...</td>\n",
       "      <td>이런 상황에서 책임 있는 모습을 보여주는 기업은 아주 드물다.</td>\n",
       "      <td>neutral</td>\n",
       "      <td>If you really want to last a long time as a co...</td>\n",
       "      <td>In this situation, very few companies show res...</td>\n",
       "    </tr>\n",
       "    <tr>\n",
       "      <th>...</th>\n",
       "      <td>...</td>\n",
       "      <td>...</td>\n",
       "      <td>...</td>\n",
       "      <td>...</td>\n",
       "      <td>...</td>\n",
       "      <td>...</td>\n",
       "    </tr>\n",
       "    <tr>\n",
       "      <th>27993</th>\n",
       "      <td>2995</td>\n",
       "      <td>흔히 비자림로라고 불리는 지방도 제1112호선을 넓히는 공사가 1년만에 재개되었다가...</td>\n",
       "      <td>지방도 제1112호선을 넓히는 공사는 중단없이 마무리 되었다.</td>\n",
       "      <td>contradiction</td>\n",
       "      <td>Construction to expand Local Road 1112 commonl...</td>\n",
       "      <td>The construction of expanding Local Road 1112 ...</td>\n",
       "    </tr>\n",
       "    <tr>\n",
       "      <th>27994</th>\n",
       "      <td>2996</td>\n",
       "      <td>흔히 비자림로라고 불리는 지방도 제1112호선을 넓히는 공사가 1년만에 재개되었다가...</td>\n",
       "      <td>지방도 제1112호선을 넓히는 공사가 중단된 건 세 번째이다.</td>\n",
       "      <td>neutral</td>\n",
       "      <td>Construction to expand Local Road 1112 commonl...</td>\n",
       "      <td>It is the third time that construction to expa...</td>\n",
       "    </tr>\n",
       "    <tr>\n",
       "      <th>27995</th>\n",
       "      <td>2997</td>\n",
       "      <td>흔히 비자림로라고 불리는 지방도 제1112호선을 넓히는 공사가 1년만에 재개되었다가...</td>\n",
       "      <td>지방도 제1112호선은 흔히 비자림로라고 불린다.</td>\n",
       "      <td>entailment</td>\n",
       "      <td>Construction to expand Local Road 1112 commonl...</td>\n",
       "      <td>Local Road 1112 is commonly referred to as Bij...</td>\n",
       "    </tr>\n",
       "    <tr>\n",
       "      <th>27996</th>\n",
       "      <td>2998</td>\n",
       "      <td>흡연자분들은 발코니가 있는 방이면 발코니에서 흡연이 가능합니다.</td>\n",
       "      <td>비흡연자는 발코니 있는 방이 필요없습니다.</td>\n",
       "      <td>neutral</td>\n",
       "      <td>Smokers can smoke on the balcony in a room wit...</td>\n",
       "      <td>Non-smokers do not need a room with a balcony.</td>\n",
       "    </tr>\n",
       "    <tr>\n",
       "      <th>27997</th>\n",
       "      <td>2999</td>\n",
       "      <td>흡연자분들은 발코니가 있는 방이면 발코니에서 흡연이 가능합니다.</td>\n",
       "      <td>흡연하려면 발코니 있는 방을 선택하면 됩니다.</td>\n",
       "      <td>entailment</td>\n",
       "      <td>Smokers can smoke on the balcony in a room wit...</td>\n",
       "      <td>If you want to smoke, you can choose a room wi...</td>\n",
       "    </tr>\n",
       "  </tbody>\n",
       "</table>\n",
       "<p>27998 rows × 6 columns</p>\n",
       "</div>"
      ],
      "text/plain": [
       "       index                                            premise  \\\n",
       "0          0  씨름은 상고시대로부터 전해져 내려오는 남자들의 대표적인 놀이로서, 소년이나 장정들이...   \n",
       "1          1  삼성은 자작극을 벌인 2명에게 형사 고소 등의 법적 대응을 검토 중이라고 하였으나,...   \n",
       "2          2                    이를 위해 예측적 범죄예방 시스템을 구축하고 고도화한다.   \n",
       "3          3  광주광역시가 재개발 정비사업 원주민들에 대한 종합대책을 마련하는 등 원주민 보호에 ...   \n",
       "4          4  진정 소비자와 직원들에게 사랑 받는 기업으로 오래 지속되고 싶으면, 이런 상황에서는...   \n",
       "...      ...                                                ...   \n",
       "27993   2995  흔히 비자림로라고 불리는 지방도 제1112호선을 넓히는 공사가 1년만에 재개되었다가...   \n",
       "27994   2996  흔히 비자림로라고 불리는 지방도 제1112호선을 넓히는 공사가 1년만에 재개되었다가...   \n",
       "27995   2997  흔히 비자림로라고 불리는 지방도 제1112호선을 넓히는 공사가 1년만에 재개되었다가...   \n",
       "27996   2998                흡연자분들은 발코니가 있는 방이면 발코니에서 흡연이 가능합니다.   \n",
       "27997   2999                흡연자분들은 발코니가 있는 방이면 발코니에서 흡연이 가능합니다.   \n",
       "\n",
       "                                    hypothesis          label  \\\n",
       "0                               씨름의 여자들의 놀이이다.  contradiction   \n",
       "1                             자작극을 벌인 이는 3명이다.  contradiction   \n",
       "2      예측적 범죄예방 시스템 구축하고 고도화하는 것은 목적이 있기 때문이다.     entailment   \n",
       "3                            원주민들은 종합대책에 만족했다.        neutral   \n",
       "4           이런 상황에서 책임 있는 모습을 보여주는 기업은 아주 드물다.        neutral   \n",
       "...                                        ...            ...   \n",
       "27993       지방도 제1112호선을 넓히는 공사는 중단없이 마무리 되었다.  contradiction   \n",
       "27994       지방도 제1112호선을 넓히는 공사가 중단된 건 세 번째이다.        neutral   \n",
       "27995              지방도 제1112호선은 흔히 비자림로라고 불린다.     entailment   \n",
       "27996                  비흡연자는 발코니 있는 방이 필요없습니다.        neutral   \n",
       "27997                흡연하려면 발코니 있는 방을 선택하면 됩니다.     entailment   \n",
       "\n",
       "                                             eng_premise  \\\n",
       "0      Ssireum is a representative game of men that h...   \n",
       "1      Samsung said it was considering legal action, ...   \n",
       "2      To this end, a predictive crime prevention sys...   \n",
       "3      Gwangju Metropolitan City has actively started...   \n",
       "4      If you really want to last a long time as a co...   \n",
       "...                                                  ...   \n",
       "27993  Construction to expand Local Road 1112 commonl...   \n",
       "27994  Construction to expand Local Road 1112 commonl...   \n",
       "27995  Construction to expand Local Road 1112 commonl...   \n",
       "27996  Smokers can smoke on the balcony in a room wit...   \n",
       "27997  Smokers can smoke on the balcony in a room wit...   \n",
       "\n",
       "                                          eng_hypothesis  \n",
       "0                       It's a play of women in Ssireum.  \n",
       "1      There were three people who made their own plays.  \n",
       "2      This is because the purpose is to establish an...  \n",
       "3      The natives were satisfied with the comprehens...  \n",
       "4      In this situation, very few companies show res...  \n",
       "...                                                  ...  \n",
       "27993  The construction of expanding Local Road 1112 ...  \n",
       "27994  It is the third time that construction to expa...  \n",
       "27995  Local Road 1112 is commonly referred to as Bij...  \n",
       "27996     Non-smokers do not need a room with a balcony.  \n",
       "27997  If you want to smoke, you can choose a room wi...  \n",
       "\n",
       "[27998 rows x 6 columns]"
      ]
     },
     "execution_count": 13,
     "metadata": {},
     "output_type": "execute_result"
    }
   ],
   "source": [
    "eng_train=pd.concat([train,eng_data_premise,eng_dat_hypothesisa],axis=1)\n",
    "eng_train"
   ]
  },
  {
   "cell_type": "code",
   "execution_count": 14,
   "metadata": {},
   "outputs": [
    {
     "data": {
      "text/html": [
       "<div>\n",
       "<style scoped>\n",
       "    .dataframe tbody tr th:only-of-type {\n",
       "        vertical-align: middle;\n",
       "    }\n",
       "\n",
       "    .dataframe tbody tr th {\n",
       "        vertical-align: top;\n",
       "    }\n",
       "\n",
       "    .dataframe thead th {\n",
       "        text-align: right;\n",
       "    }\n",
       "</style>\n",
       "<table border=\"1\" class=\"dataframe\">\n",
       "  <thead>\n",
       "    <tr style=\"text-align: right;\">\n",
       "      <th></th>\n",
       "      <th>eng_premise</th>\n",
       "      <th>eng_hypothesis</th>\n",
       "      <th>label</th>\n",
       "    </tr>\n",
       "  </thead>\n",
       "  <tbody>\n",
       "    <tr>\n",
       "      <th>0</th>\n",
       "      <td>Ssireum is a representative game of men that h...</td>\n",
       "      <td>It's a play of women in Ssireum.</td>\n",
       "      <td>contradiction</td>\n",
       "    </tr>\n",
       "    <tr>\n",
       "      <th>1</th>\n",
       "      <td>Samsung said it was considering legal action, ...</td>\n",
       "      <td>There were three people who made their own plays.</td>\n",
       "      <td>contradiction</td>\n",
       "    </tr>\n",
       "    <tr>\n",
       "      <th>2</th>\n",
       "      <td>To this end, a predictive crime prevention sys...</td>\n",
       "      <td>This is because the purpose is to establish an...</td>\n",
       "      <td>entailment</td>\n",
       "    </tr>\n",
       "    <tr>\n",
       "      <th>3</th>\n",
       "      <td>Gwangju Metropolitan City has actively started...</td>\n",
       "      <td>The natives were satisfied with the comprehens...</td>\n",
       "      <td>neutral</td>\n",
       "    </tr>\n",
       "    <tr>\n",
       "      <th>4</th>\n",
       "      <td>If you really want to last a long time as a co...</td>\n",
       "      <td>In this situation, very few companies show res...</td>\n",
       "      <td>neutral</td>\n",
       "    </tr>\n",
       "    <tr>\n",
       "      <th>...</th>\n",
       "      <td>...</td>\n",
       "      <td>...</td>\n",
       "      <td>...</td>\n",
       "    </tr>\n",
       "    <tr>\n",
       "      <th>27993</th>\n",
       "      <td>Construction to expand Local Road 1112 commonl...</td>\n",
       "      <td>The construction of expanding Local Road 1112 ...</td>\n",
       "      <td>contradiction</td>\n",
       "    </tr>\n",
       "    <tr>\n",
       "      <th>27994</th>\n",
       "      <td>Construction to expand Local Road 1112 commonl...</td>\n",
       "      <td>It is the third time that construction to expa...</td>\n",
       "      <td>neutral</td>\n",
       "    </tr>\n",
       "    <tr>\n",
       "      <th>27995</th>\n",
       "      <td>Construction to expand Local Road 1112 commonl...</td>\n",
       "      <td>Local Road 1112 is commonly referred to as Bij...</td>\n",
       "      <td>entailment</td>\n",
       "    </tr>\n",
       "    <tr>\n",
       "      <th>27996</th>\n",
       "      <td>Smokers can smoke on the balcony in a room wit...</td>\n",
       "      <td>Non-smokers do not need a room with a balcony.</td>\n",
       "      <td>neutral</td>\n",
       "    </tr>\n",
       "    <tr>\n",
       "      <th>27997</th>\n",
       "      <td>Smokers can smoke on the balcony in a room wit...</td>\n",
       "      <td>If you want to smoke, you can choose a room wi...</td>\n",
       "      <td>entailment</td>\n",
       "    </tr>\n",
       "  </tbody>\n",
       "</table>\n",
       "<p>27998 rows × 3 columns</p>\n",
       "</div>"
      ],
      "text/plain": [
       "                                             eng_premise  \\\n",
       "0      Ssireum is a representative game of men that h...   \n",
       "1      Samsung said it was considering legal action, ...   \n",
       "2      To this end, a predictive crime prevention sys...   \n",
       "3      Gwangju Metropolitan City has actively started...   \n",
       "4      If you really want to last a long time as a co...   \n",
       "...                                                  ...   \n",
       "27993  Construction to expand Local Road 1112 commonl...   \n",
       "27994  Construction to expand Local Road 1112 commonl...   \n",
       "27995  Construction to expand Local Road 1112 commonl...   \n",
       "27996  Smokers can smoke on the balcony in a room wit...   \n",
       "27997  Smokers can smoke on the balcony in a room wit...   \n",
       "\n",
       "                                          eng_hypothesis          label  \n",
       "0                       It's a play of women in Ssireum.  contradiction  \n",
       "1      There were three people who made their own plays.  contradiction  \n",
       "2      This is because the purpose is to establish an...     entailment  \n",
       "3      The natives were satisfied with the comprehens...        neutral  \n",
       "4      In this situation, very few companies show res...        neutral  \n",
       "...                                                  ...            ...  \n",
       "27993  The construction of expanding Local Road 1112 ...  contradiction  \n",
       "27994  It is the third time that construction to expa...        neutral  \n",
       "27995  Local Road 1112 is commonly referred to as Bij...     entailment  \n",
       "27996     Non-smokers do not need a room with a balcony.        neutral  \n",
       "27997  If you want to smoke, you can choose a room wi...     entailment  \n",
       "\n",
       "[27998 rows x 3 columns]"
      ]
     },
     "execution_count": 14,
     "metadata": {},
     "output_type": "execute_result"
    }
   ],
   "source": [
    "eng_train = eng_train[['eng_premise','eng_hypothesis','label']]\n",
    "eng_train"
   ]
  },
  {
   "cell_type": "code",
   "execution_count": 15,
   "metadata": {},
   "outputs": [],
   "source": [
    "eng_train.to_csv(f'./data/eng_train.csv', index=False)"
   ]
  },
  {
   "cell_type": "code",
   "execution_count": 16,
   "metadata": {},
   "outputs": [],
   "source": [
    "eng_data0=np.load(data_path+'kor_premise_to_eng_test_0_all.npy')\n",
    "\n",
    "\n",
    "eng_data=[*eng_data0]\n",
    "eng_data_premise=pd.DataFrame(eng_data,columns=['eng_premise'])"
   ]
  },
  {
   "cell_type": "code",
   "execution_count": 17,
   "metadata": {},
   "outputs": [],
   "source": [
    "eng_data0=np.load(data_path+'kor_hypothesis_to_eng_test_0_all.npy')\n",
    "\n",
    "\n",
    "eng_data=[*eng_data0]\n",
    "eng_data_hypothesis=pd.DataFrame(eng_data,columns=['eng_hypothesis'])"
   ]
  },
  {
   "cell_type": "code",
   "execution_count": 18,
   "metadata": {},
   "outputs": [
    {
     "data": {
      "text/html": [
       "<div>\n",
       "<style scoped>\n",
       "    .dataframe tbody tr th:only-of-type {\n",
       "        vertical-align: middle;\n",
       "    }\n",
       "\n",
       "    .dataframe tbody tr th {\n",
       "        vertical-align: top;\n",
       "    }\n",
       "\n",
       "    .dataframe thead th {\n",
       "        text-align: right;\n",
       "    }\n",
       "</style>\n",
       "<table border=\"1\" class=\"dataframe\">\n",
       "  <thead>\n",
       "    <tr style=\"text-align: right;\">\n",
       "      <th></th>\n",
       "      <th>index</th>\n",
       "      <th>premise</th>\n",
       "      <th>hypothesis</th>\n",
       "      <th>label</th>\n",
       "      <th>eng_premise</th>\n",
       "      <th>eng_hypothesis</th>\n",
       "    </tr>\n",
       "  </thead>\n",
       "  <tbody>\n",
       "    <tr>\n",
       "      <th>0</th>\n",
       "      <td>0</td>\n",
       "      <td>다만 조금 좁아서 케리어를 펼치기 불편합니다.</td>\n",
       "      <td>케리어를 펼치기에 공간이 충분했습니다.</td>\n",
       "      <td>answer</td>\n",
       "      <td>However, it is a little narrow, so it is incon...</td>\n",
       "      <td>There was enough space to unfold the care.</td>\n",
       "    </tr>\n",
       "    <tr>\n",
       "      <th>1</th>\n",
       "      <td>1</td>\n",
       "      <td>그리고 위치가 시먼역보다는 샤오난먼역에 가까워요</td>\n",
       "      <td>시먼역보다는 샤오난먼역에 먼저 도착할 수 있어요</td>\n",
       "      <td>answer</td>\n",
       "      <td>And the location is closer to Xiaonanman stati...</td>\n",
       "      <td>You can arrive at Xiaonanmen Station before Si...</td>\n",
       "    </tr>\n",
       "    <tr>\n",
       "      <th>2</th>\n",
       "      <td>2</td>\n",
       "      <td>구구절절 설명하고 이해시키려는 노력이 큰 의미없이 다가온다.</td>\n",
       "      <td>무엇인가 말을 많이 하기는 했지만 큰 의미가 있지는 않았다.</td>\n",
       "      <td>answer</td>\n",
       "      <td>Efforts to explain and understand every phrase...</td>\n",
       "      <td>I talked a lot about something, but it didn't ...</td>\n",
       "    </tr>\n",
       "    <tr>\n",
       "      <th>3</th>\n",
       "      <td>3</td>\n",
       "      <td>몇 번을 다시봐도 볼 때마다 가슴이 저민다.</td>\n",
       "      <td>다시 봤을때는 무덤덤했다.</td>\n",
       "      <td>answer</td>\n",
       "      <td>No matter how many times I watch it again, my ...</td>\n",
       "      <td>When I saw it again, I was calm.</td>\n",
       "    </tr>\n",
       "    <tr>\n",
       "      <th>4</th>\n",
       "      <td>4</td>\n",
       "      <td>8월 중에 입주신청을 하면 청년은 9월, 신혼부부는 10월부터 입주가 가능하다.</td>\n",
       "      <td>8월 중에 입주신청을 하면 신혼부부는 9월 부터 입주가 가능하다.</td>\n",
       "      <td>answer</td>\n",
       "      <td>If you apply for occupancy in August, young pe...</td>\n",
       "      <td>If you apply for occupancy in August, newlywed...</td>\n",
       "    </tr>\n",
       "    <tr>\n",
       "      <th>...</th>\n",
       "      <td>...</td>\n",
       "      <td>...</td>\n",
       "      <td>...</td>\n",
       "      <td>...</td>\n",
       "      <td>...</td>\n",
       "      <td>...</td>\n",
       "    </tr>\n",
       "    <tr>\n",
       "      <th>1661</th>\n",
       "      <td>1661</td>\n",
       "      <td>또 작업자의 숙련도와 경험 향상, 전문성을 요구하는 난이도 높은 데이터 가공을 통해...</td>\n",
       "      <td>이미지 데이터를 가공하는 것이 가장 난이도가 높다.</td>\n",
       "      <td>answer</td>\n",
       "      <td>In addition, you can earn enough income throug...</td>\n",
       "      <td>Processing image data is the most difficult.</td>\n",
       "    </tr>\n",
       "    <tr>\n",
       "      <th>1662</th>\n",
       "      <td>1662</td>\n",
       "      <td>결말을 보니 아무래도 이 영화는 2부가 계획된 듯 합니다.</td>\n",
       "      <td>결말을 보니 분명히 2편이 나올것이 틀림없다.</td>\n",
       "      <td>answer</td>\n",
       "      <td>Looking at the ending, I think the second part...</td>\n",
       "      <td>Looking at the ending, there must be two films.</td>\n",
       "    </tr>\n",
       "    <tr>\n",
       "      <th>1663</th>\n",
       "      <td>1663</td>\n",
       "      <td>사회적 거리 두기 상황에서 총리도 카페를 갔다가 자리가 없어서 퇴짜 맞은 일도 있을...</td>\n",
       "      <td>사회적 거리두기 상황에서는 고위관직자도 방역지침을 준수해야 한다.</td>\n",
       "      <td>answer</td>\n",
       "      <td>In a social distancing situation, it is said t...</td>\n",
       "      <td>In the situation of social distancing, high-ra...</td>\n",
       "    </tr>\n",
       "    <tr>\n",
       "      <th>1664</th>\n",
       "      <td>1664</td>\n",
       "      <td>로마에서 3박4일간 이곳에서 머물렀습니다.</td>\n",
       "      <td>이곳에서 머무르며 로마의 명소들을 방문했습니다.</td>\n",
       "      <td>answer</td>\n",
       "      <td>I stayed here for 3 nights and 4 days in Rome.</td>\n",
       "      <td>I stayed here and visited Roman attractions.</td>\n",
       "    </tr>\n",
       "    <tr>\n",
       "      <th>1665</th>\n",
       "      <td>1665</td>\n",
       "      <td>난 당신이 떠날때 길 하나도 못 건넜는데</td>\n",
       "      <td>난 당신이 떤나 사실도 모르고 있었는데</td>\n",
       "      <td>answer</td>\n",
       "      <td>I couldn't cross the street when you left.</td>\n",
       "      <td>I didn't even know you were nervous.</td>\n",
       "    </tr>\n",
       "  </tbody>\n",
       "</table>\n",
       "<p>1666 rows × 6 columns</p>\n",
       "</div>"
      ],
      "text/plain": [
       "      index                                            premise  \\\n",
       "0         0                          다만 조금 좁아서 케리어를 펼치기 불편합니다.   \n",
       "1         1                         그리고 위치가 시먼역보다는 샤오난먼역에 가까워요   \n",
       "2         2                  구구절절 설명하고 이해시키려는 노력이 큰 의미없이 다가온다.   \n",
       "3         3                           몇 번을 다시봐도 볼 때마다 가슴이 저민다.   \n",
       "4         4       8월 중에 입주신청을 하면 청년은 9월, 신혼부부는 10월부터 입주가 가능하다.   \n",
       "...     ...                                                ...   \n",
       "1661   1661  또 작업자의 숙련도와 경험 향상, 전문성을 요구하는 난이도 높은 데이터 가공을 통해...   \n",
       "1662   1662                   결말을 보니 아무래도 이 영화는 2부가 계획된 듯 합니다.   \n",
       "1663   1663  사회적 거리 두기 상황에서 총리도 카페를 갔다가 자리가 없어서 퇴짜 맞은 일도 있을...   \n",
       "1664   1664                            로마에서 3박4일간 이곳에서 머물렀습니다.   \n",
       "1665   1665                             난 당신이 떠날때 길 하나도 못 건넜는데   \n",
       "\n",
       "                                hypothesis   label  \\\n",
       "0                    케리어를 펼치기에 공간이 충분했습니다.  answer   \n",
       "1               시먼역보다는 샤오난먼역에 먼저 도착할 수 있어요  answer   \n",
       "2        무엇인가 말을 많이 하기는 했지만 큰 의미가 있지는 않았다.  answer   \n",
       "3                           다시 봤을때는 무덤덤했다.  answer   \n",
       "4     8월 중에 입주신청을 하면 신혼부부는 9월 부터 입주가 가능하다.  answer   \n",
       "...                                    ...     ...   \n",
       "1661          이미지 데이터를 가공하는 것이 가장 난이도가 높다.  answer   \n",
       "1662             결말을 보니 분명히 2편이 나올것이 틀림없다.  answer   \n",
       "1663  사회적 거리두기 상황에서는 고위관직자도 방역지침을 준수해야 한다.  answer   \n",
       "1664            이곳에서 머무르며 로마의 명소들을 방문했습니다.  answer   \n",
       "1665                 난 당신이 떤나 사실도 모르고 있었는데  answer   \n",
       "\n",
       "                                            eng_premise  \\\n",
       "0     However, it is a little narrow, so it is incon...   \n",
       "1     And the location is closer to Xiaonanman stati...   \n",
       "2     Efforts to explain and understand every phrase...   \n",
       "3     No matter how many times I watch it again, my ...   \n",
       "4     If you apply for occupancy in August, young pe...   \n",
       "...                                                 ...   \n",
       "1661  In addition, you can earn enough income throug...   \n",
       "1662  Looking at the ending, I think the second part...   \n",
       "1663  In a social distancing situation, it is said t...   \n",
       "1664     I stayed here for 3 nights and 4 days in Rome.   \n",
       "1665         I couldn't cross the street when you left.   \n",
       "\n",
       "                                         eng_hypothesis  \n",
       "0            There was enough space to unfold the care.  \n",
       "1     You can arrive at Xiaonanmen Station before Si...  \n",
       "2     I talked a lot about something, but it didn't ...  \n",
       "3                      When I saw it again, I was calm.  \n",
       "4     If you apply for occupancy in August, newlywed...  \n",
       "...                                                 ...  \n",
       "1661       Processing image data is the most difficult.  \n",
       "1662    Looking at the ending, there must be two films.  \n",
       "1663  In the situation of social distancing, high-ra...  \n",
       "1664       I stayed here and visited Roman attractions.  \n",
       "1665               I didn't even know you were nervous.  \n",
       "\n",
       "[1666 rows x 6 columns]"
      ]
     },
     "execution_count": 18,
     "metadata": {},
     "output_type": "execute_result"
    }
   ],
   "source": [
    "eng_test=pd.concat([test,eng_data_premise,eng_data_hypothesis],axis=1)\n",
    "eng_test"
   ]
  },
  {
   "cell_type": "code",
   "execution_count": 19,
   "metadata": {},
   "outputs": [
    {
     "data": {
      "text/html": [
       "<div>\n",
       "<style scoped>\n",
       "    .dataframe tbody tr th:only-of-type {\n",
       "        vertical-align: middle;\n",
       "    }\n",
       "\n",
       "    .dataframe tbody tr th {\n",
       "        vertical-align: top;\n",
       "    }\n",
       "\n",
       "    .dataframe thead th {\n",
       "        text-align: right;\n",
       "    }\n",
       "</style>\n",
       "<table border=\"1\" class=\"dataframe\">\n",
       "  <thead>\n",
       "    <tr style=\"text-align: right;\">\n",
       "      <th></th>\n",
       "      <th>eng_premise</th>\n",
       "      <th>eng_hypothesis</th>\n",
       "    </tr>\n",
       "  </thead>\n",
       "  <tbody>\n",
       "    <tr>\n",
       "      <th>0</th>\n",
       "      <td>However, it is a little narrow, so it is incon...</td>\n",
       "      <td>There was enough space to unfold the care.</td>\n",
       "    </tr>\n",
       "    <tr>\n",
       "      <th>1</th>\n",
       "      <td>And the location is closer to Xiaonanman stati...</td>\n",
       "      <td>You can arrive at Xiaonanmen Station before Si...</td>\n",
       "    </tr>\n",
       "    <tr>\n",
       "      <th>2</th>\n",
       "      <td>Efforts to explain and understand every phrase...</td>\n",
       "      <td>I talked a lot about something, but it didn't ...</td>\n",
       "    </tr>\n",
       "    <tr>\n",
       "      <th>3</th>\n",
       "      <td>No matter how many times I watch it again, my ...</td>\n",
       "      <td>When I saw it again, I was calm.</td>\n",
       "    </tr>\n",
       "    <tr>\n",
       "      <th>4</th>\n",
       "      <td>If you apply for occupancy in August, young pe...</td>\n",
       "      <td>If you apply for occupancy in August, newlywed...</td>\n",
       "    </tr>\n",
       "    <tr>\n",
       "      <th>...</th>\n",
       "      <td>...</td>\n",
       "      <td>...</td>\n",
       "    </tr>\n",
       "    <tr>\n",
       "      <th>1661</th>\n",
       "      <td>In addition, you can earn enough income throug...</td>\n",
       "      <td>Processing image data is the most difficult.</td>\n",
       "    </tr>\n",
       "    <tr>\n",
       "      <th>1662</th>\n",
       "      <td>Looking at the ending, I think the second part...</td>\n",
       "      <td>Looking at the ending, there must be two films.</td>\n",
       "    </tr>\n",
       "    <tr>\n",
       "      <th>1663</th>\n",
       "      <td>In a social distancing situation, it is said t...</td>\n",
       "      <td>In the situation of social distancing, high-ra...</td>\n",
       "    </tr>\n",
       "    <tr>\n",
       "      <th>1664</th>\n",
       "      <td>I stayed here for 3 nights and 4 days in Rome.</td>\n",
       "      <td>I stayed here and visited Roman attractions.</td>\n",
       "    </tr>\n",
       "    <tr>\n",
       "      <th>1665</th>\n",
       "      <td>I couldn't cross the street when you left.</td>\n",
       "      <td>I didn't even know you were nervous.</td>\n",
       "    </tr>\n",
       "  </tbody>\n",
       "</table>\n",
       "<p>1666 rows × 2 columns</p>\n",
       "</div>"
      ],
      "text/plain": [
       "                                            eng_premise  \\\n",
       "0     However, it is a little narrow, so it is incon...   \n",
       "1     And the location is closer to Xiaonanman stati...   \n",
       "2     Efforts to explain and understand every phrase...   \n",
       "3     No matter how many times I watch it again, my ...   \n",
       "4     If you apply for occupancy in August, young pe...   \n",
       "...                                                 ...   \n",
       "1661  In addition, you can earn enough income throug...   \n",
       "1662  Looking at the ending, I think the second part...   \n",
       "1663  In a social distancing situation, it is said t...   \n",
       "1664     I stayed here for 3 nights and 4 days in Rome.   \n",
       "1665         I couldn't cross the street when you left.   \n",
       "\n",
       "                                         eng_hypothesis  \n",
       "0            There was enough space to unfold the care.  \n",
       "1     You can arrive at Xiaonanmen Station before Si...  \n",
       "2     I talked a lot about something, but it didn't ...  \n",
       "3                      When I saw it again, I was calm.  \n",
       "4     If you apply for occupancy in August, newlywed...  \n",
       "...                                                 ...  \n",
       "1661       Processing image data is the most difficult.  \n",
       "1662    Looking at the ending, there must be two films.  \n",
       "1663  In the situation of social distancing, high-ra...  \n",
       "1664       I stayed here and visited Roman attractions.  \n",
       "1665               I didn't even know you were nervous.  \n",
       "\n",
       "[1666 rows x 2 columns]"
      ]
     },
     "execution_count": 19,
     "metadata": {},
     "output_type": "execute_result"
    }
   ],
   "source": [
    "eng_test = eng_test[['eng_premise','eng_hypothesis']]\n",
    "eng_test"
   ]
  },
  {
   "cell_type": "code",
   "execution_count": 20,
   "metadata": {},
   "outputs": [],
   "source": [
    "eng_test.to_csv(f'./data/eng_test.csv', index=False)"
   ]
  },
  {
   "cell_type": "code",
   "execution_count": null,
   "metadata": {},
   "outputs": [],
   "source": []
  }
 ],
 "metadata": {
  "kernelspec": {
   "display_name": "Python 3",
   "language": "python",
   "name": "python3"
  },
  "language_info": {
   "codemirror_mode": {
    "name": "ipython",
    "version": 3
   },
   "file_extension": ".py",
   "mimetype": "text/x-python",
   "name": "python",
   "nbconvert_exporter": "python",
   "pygments_lexer": "ipython3",
   "version": "3.6.9"
  }
 },
 "nbformat": 4,
 "nbformat_minor": 2
}
